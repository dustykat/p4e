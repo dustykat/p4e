{
 "cells": [
  {
   "cell_type": "markdown",
   "metadata": {},
   "source": [
    "# Immutable Data Structures\n",
    "\n",
    "Data Structures are a specialized means of organizing and storing data in computers in such a way that we can perform operations on the stored data more effectively, and maintain the program easier.\n",
    "\n",
    "Here we are interested in tuples, which are [immutable](https://www.dictionary.com/browse/mutable), but quite useful.\n",
    "\n",
    "![](data-structures.png)\n"
   ]
  },
  {
   "cell_type": "markdown",
   "metadata": {},
   "source": [
    "## Tuple - A special list\n",
    "\n",
    "A tuple is a special kind of list where the **values cannot be changed** after the list is created.\n",
    "Such a property is called `immutable`\n",
    "It is useful for list-like things that are static - like days in a week, or months of a year.\n",
    "You declare a tuple like a list, except use round brackets instead of square brackets."
   ]
  },
  {
   "cell_type": "code",
   "execution_count": 22,
   "metadata": {},
   "outputs": [
    {
     "name": "stdout",
     "output_type": "stream",
     "text": [
      "('Jan', 'Feb', 'Mar', 'Apr', 'May', 'Jun', 'Jul', 'Aug', 'Sep', 'Oct', 'Nov', 'Dec')\n"
     ]
    }
   ],
   "source": [
    "MyTupleName = (\"Jan\",\"Feb\",\"Mar\",\"Apr\",\"May\",\"Jun\",\"Jul\",\"Aug\",\"Sep\",\"Oct\",\"Nov\",\"Dec\")\n",
    "print(MyTupleName)"
   ]
  },
  {
   "cell_type": "markdown",
   "metadata": {},
   "source": [
    "Tuples are often created as output from packages and functions, so often when using other's work you have to detect tupality and modify your script accordingly.\n",
    " \n",
    "You access the individual values of a tuple using their indexes, just like with a list.  "
   ]
  },
  {
   "cell_type": "code",
   "execution_count": 33,
   "metadata": {},
   "outputs": [
    {
     "name": "stdout",
     "output_type": "stream",
     "text": [
      "Jan\n",
      "Dec\n"
     ]
    }
   ],
   "source": [
    "print(MyTupleName[0])\n",
    "print(MyTupleName[-1])"
   ]
  },
  {
   "cell_type": "markdown",
   "metadata": {},
   "source": [
    "Tuples can be leveraged using a concatenation type operation and a multiply (better to call it a repeat) operator as:"
   ]
  },
  {
   "cell_type": "code",
   "execution_count": 34,
   "metadata": {},
   "outputs": [
    {
     "name": "stdout",
     "output_type": "stream",
     "text": [
      "('Jan', 'Feb', 'Mar', 'Apr', 'May', 'Jun', 'Jul', 'Aug', 'Sep', 'Oct', 'Nov', 'Dec', 'duodec', 'symjan')\n",
      "('Jan', 'Feb', 'Mar', 'Jan', 'Feb', 'Mar')\n"
     ]
    },
    {
     "data": {
      "text/plain": [
       "True"
      ]
     },
     "execution_count": 34,
     "metadata": {},
     "output_type": "execute_result"
    }
   ],
   "source": [
    "print(MyTupleName + ('duodec','symjan')) # add to a tuple \n",
    "print(MyTupleName[0:3]*2) #repeat a tuple\n",
    "'Dec' in MyTupleName # query a tuple - for  whole entry"
   ]
  },
  {
   "cell_type": "markdown",
   "metadata": {},
   "source": [
    "## Special Structures: Sets \n",
    "Sets are used to store elements of different data types, they are similar to dictionaries with keys but no values (or the keys are the values)\n",
    "\n",
    "- Unordered: Elements in a set cannot be indexed\n",
    "- Mutable: Elements in a set can be altered\n",
    "- Non-repetition: Elements in a set are unique\n",
    "\n",
    "Elements of a set are enclosed in curly brackets { } or created using the set() method.\n",
    "\n",
    "- Creating sets that contains different data types\n",
    "- Sets cannot be nested"
   ]
  },
  {
   "cell_type": "code",
   "execution_count": 42,
   "metadata": {},
   "outputs": [
    {
     "data": {
      "text/plain": [
       "dict"
      ]
     },
     "execution_count": 42,
     "metadata": {},
     "output_type": "execute_result"
    }
   ],
   "source": [
    "myset = {1:'one',2:'two',3:{1:'one',2:'two',3:'seven of nine'}}\n",
    "type(myset)"
   ]
  },
  {
   "cell_type": "code",
   "execution_count": 38,
   "metadata": {},
   "outputs": [
    {
     "data": {
      "text/plain": [
       "'seven of nine'"
      ]
     },
     "execution_count": 38,
     "metadata": {},
     "output_type": "execute_result"
    }
   ],
   "source": [
    "(myset.get(3)).get(3) # get element from key 3 of key 3 set"
   ]
  },
  {
   "cell_type": "code",
   "execution_count": 48,
   "metadata": {},
   "outputs": [
    {
     "data": {
      "text/plain": [
       "set"
      ]
     },
     "execution_count": 48,
     "metadata": {},
     "output_type": "execute_result"
    }
   ],
   "source": [
    "myset = {1,2,77}\n",
    "type(myset)"
   ]
  },
  {
   "cell_type": "code",
   "execution_count": 49,
   "metadata": {},
   "outputs": [
    {
     "data": {
      "text/plain": [
       "set"
      ]
     },
     "execution_count": 49,
     "metadata": {},
     "output_type": "execute_result"
    }
   ],
   "source": [
    "urset={'apple','cat','rock',77,'sunset strip'}\n",
    "type(urset)"
   ]
  },
  {
   "cell_type": "code",
   "execution_count": 50,
   "metadata": {},
   "outputs": [
    {
     "name": "stdout",
     "output_type": "stream",
     "text": [
      "union is :  {1, 2, 'apple', 'cat', 'sunset strip', 77, 'rock'}\n",
      "intersection is :  {77}\n"
     ]
    }
   ],
   "source": [
    "# union (join) sets\n",
    "print('union is : ' ,myset | urset)\n",
    "# intersection of sets (shared elements)\n",
    "print('intersection is : ' ,myset & urset)"
   ]
  },
  {
   "cell_type": "markdown",
   "metadata": {},
   "source": [
    "A good tutorial on sets and their use in python is [https://realpython.com/python-sets/](https://realpython.com/python-sets/)\n",
    "\n",
    "#### What's the difference between a set and dictionary? \n",
    "\n",
    "From [https://stackoverflow.com/questions/34370599/difference-between-dict-and-set-python](https://stackoverflow.com/questions/34370599/difference-between-dict-and-set-python)\n",
    "\n",
    "\"Well, a set is like a dict with keys but no values, and they're both implemented using a hash table. But yes, it's a little annoying that the `{}` notation denotes an empty `dict` rather than an empty `set`, but that's a historical artifact.\""
   ]
  },
  {
   "cell_type": "markdown",
   "metadata": {},
   "source": [
    "## Special Structures: Arrays \n",
    "\n",
    "Arrays are lists that are used to store only elements of a specific data type\n",
    "\n",
    "-  Ordered: Elements in an array can be indexed\n",
    "-  Mutable: Elements in an array can be altered\n",
    "\n",
    "![https://pi.lbbcdn.com/wp-content/uploads/2020/01/Python-Arrays-Index-example-diagram.png](https://pi.lbbcdn.com/wp-content/uploads/2020/01/Python-Arrays-Index-example-diagram.png)\n",
    "\n",
    "\n",
    "\n",
    "Data type that an array must hold is specified using the type code when it is created\n",
    "- ‘f’ for float\n",
    "- ‘d’ for double\n",
    "- ‘i’ for signed int\n",
    "- ‘I’ for unsigned int\n",
    "\n",
    "More types are listed below\n",
    "\n",
    "\n",
    "|Type Code|C Data Type|Python Data Type|Minimum Size in Bytes|\n",
    "|:---|---|---|---:|\n",
    "|'b'|\tsigned char|int\t|1|\n",
    "|'B'|\tunsigned char\t|int\t|1|\n",
    "|'h'|\tsigned short\t|int\t|2|\n",
    "|'H'|\tunsigned short\t|int\t|2|\n",
    "|'i'|\tsigned int\t|int\t|2|\n",
    "|'I'|\tunsigned int\t|int\t|2|\n",
    "|'l'|\tsigned long\t|int\t|4|\n",
    "|'L'|\tunsigned long\t|int\t|4|\n",
    "|'q'|\tsigned long long\t|int\t|8|\n",
    "|'Q'|\tunsigned long long\t|int\t|8|\n",
    "|'f'|\tfloat\t|float\t|4|\n",
    "|'d'|\tdouble\t|float\t|8|\n",
    "\n",
    "To use arrays, a library named ‘array’ must be imported (the library installs as part of core, so usually just an import is required)"
   ]
  },
  {
   "cell_type": "code",
   "execution_count": 56,
   "metadata": {},
   "outputs": [],
   "source": [
    "import array "
   ]
  },
  {
   "cell_type": "markdown",
   "metadata": {},
   "source": [
    "Creating an array that contains signed integer numbers"
   ]
  },
  {
   "cell_type": "code",
   "execution_count": 72,
   "metadata": {},
   "outputs": [],
   "source": [
    "myarray = array.array('i', [1, 2, 4, 8, 16, 32])"
   ]
  },
  {
   "cell_type": "code",
   "execution_count": 73,
   "metadata": {},
   "outputs": [
    {
     "data": {
      "text/plain": [
       "1"
      ]
     },
     "execution_count": 73,
     "metadata": {},
     "output_type": "execute_result"
    }
   ],
   "source": [
    "myarray[0] #1-st element, 0-th position"
   ]
  },
  {
   "cell_type": "markdown",
   "metadata": {},
   "source": [
    "Higher dimensional arrays (matrices) require a constructor type assembly, which is presented later. The numpy module simplifies higher dimensional array construction and is probably used the most."
   ]
  },
  {
   "cell_type": "markdown",
   "metadata": {},
   "source": [
    "## Readings\n",
    "\n",
    "1. Learn Python in One Day and Learn It Well. Python for Beginners with Hands-on Project. (Learn Coding Fast with Hands-On Project Book -- Kindle Edition by LCF Publishing (Author), Jamie Chan [https://www.amazon.com/Python-2nd-Beginners-Hands-Project-ebook/dp/B071Z2Q6TQ/ref=sr_1_3?dchild=1&keywords=learn+python+in+a+day&qid=1611108340&sr=8-3](https://www.amazon.com/Python-2nd-Beginners-Hands-Project-ebook/dp/B071Z2Q6TQ/ref=sr_1_3?dchild=1&keywords=learn+python+in+a+day&qid=1611108340&sr=8-3)\n",
    "\n",
    "2. Learn Python the Hard Way (Online Book) (https://learnpythonthehardway.org/book/)  Recommended for beginners who want a complete course in programming with Python.\n",
    "\n",
    "3. How to Learn Python for Data Science, The Self-Starter Way (https://elitedatascience.com/learn-python-for-data-science) \n",
    "\n",
    "4. Sets (tutorial) [https://realpython.com/python-sets/](https://realpython.com/python-sets/)"
   ]
  },
  {
   "cell_type": "code",
   "execution_count": null,
   "metadata": {},
   "outputs": [],
   "source": []
  }
 ],
 "metadata": {
  "kernelspec": {
   "display_name": "Python 3",
   "language": "python",
   "name": "python3"
  },
  "language_info": {
   "codemirror_mode": {
    "name": "ipython",
    "version": 3
   },
   "file_extension": ".py",
   "mimetype": "text/x-python",
   "name": "python",
   "nbconvert_exporter": "python",
   "pygments_lexer": "ipython3",
   "version": "3.8.10"
  }
 },
 "nbformat": 4,
 "nbformat_minor": 4
}
