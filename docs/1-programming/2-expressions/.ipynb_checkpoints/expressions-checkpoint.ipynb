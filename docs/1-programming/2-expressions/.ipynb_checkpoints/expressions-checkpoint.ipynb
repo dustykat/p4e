{
 "cells": [
  {
   "cell_type": "markdown",
   "metadata": {},
   "source": []
  },
  {
   "cell_type": "markdown",
   "metadata": {},
   "source": [
    "# Expressions\n",
    "\n",
    "Consider the relativistic equation relating energy, mass, and the speed of light \n",
    "\n",
    "$$ e = m \\cdot c^2 $$\n",
    "\n",
    "In this equation the symbols $e$,$m$,$c$,$=$,$\\cdot$, and the structure is parsed from left to right. The entire equation is an statement that instructs: place into the container named $e$ the result of the product of the contents of containers $m$ and $c^2$.  \n",
    "\n",
    "In the above statement the symbols $e$,$m$,$c$ are names for things that can have values -- we will call these containers (or variables, or named constants).  The symbols $=$,$\\cdot$, and $~^2$ are instructions for various arithmetic operations -- we will call these operators.  \n",
    "\n",
    "The part of the statement to the right of the $=$ symbol is an arithmetic expression.\n",
    "\n",
    "When we attempt to write and execute python scripts - we will make various mistakes; these will generate warnings and errors, which we will repair to make a working program.\n",
    "\n",
    "Consider our statement with the container names spelled out:"
   ]
  },
  {
   "cell_type": "code",
   "execution_count": 4,
   "metadata": {},
   "outputs": [
    {
     "ename": "NameError",
     "evalue": "name 'Mass' is not defined",
     "output_type": "error",
     "traceback": [
      "\u001b[0;31m---------------------------------------------------------------------------\u001b[0m",
      "\u001b[0;31mNameError\u001b[0m                                 Traceback (most recent call last)",
      "\u001b[0;32m<ipython-input-4-1c1f1fa5363a>\u001b[0m in \u001b[0;36m<module>\u001b[0;34m\u001b[0m\n\u001b[1;32m      1\u001b[0m \u001b[0;31m#clear all variables# Example\u001b[0m\u001b[0;34m\u001b[0m\u001b[0;34m\u001b[0m\u001b[0;34m\u001b[0m\u001b[0m\n\u001b[0;32m----> 2\u001b[0;31m \u001b[0mEnergy\u001b[0m \u001b[0;34m=\u001b[0m \u001b[0mMass\u001b[0m \u001b[0;34m*\u001b[0m \u001b[0mSpeedOfLight\u001b[0m\u001b[0;34m**\u001b[0m\u001b[0;36m2\u001b[0m\u001b[0;34m\u001b[0m\u001b[0;34m\u001b[0m\u001b[0m\n\u001b[0m",
      "\u001b[0;31mNameError\u001b[0m: name 'Mass' is not defined"
     ]
    }
   ],
   "source": [
    "# Example \n",
    "Energy = Mass * SpeedOfLight**2 "
   ]
  },
  {
   "cell_type": "markdown",
   "metadata": {},
   "source": [
    "Notice how the interpreter tells us that Mass is undefined - so a simple fix is to define it and try again"
   ]
  },
  {
   "cell_type": "code",
   "execution_count": 5,
   "metadata": {},
   "outputs": [
    {
     "ename": "NameError",
     "evalue": "name 'SpeedOfLight' is not defined",
     "output_type": "error",
     "traceback": [
      "\u001b[0;31m---------------------------------------------------------------------------\u001b[0m",
      "\u001b[0;31mNameError\u001b[0m                                 Traceback (most recent call last)",
      "\u001b[0;32m<ipython-input-5-a4a52966e6df>\u001b[0m in \u001b[0;36m<module>\u001b[0;34m\u001b[0m\n\u001b[1;32m      1\u001b[0m \u001b[0;31m# Example\u001b[0m\u001b[0;34m\u001b[0m\u001b[0;34m\u001b[0m\u001b[0;34m\u001b[0m\u001b[0m\n\u001b[1;32m      2\u001b[0m \u001b[0mMass\u001b[0m \u001b[0;34m=\u001b[0m \u001b[0;36m1000000\u001b[0m\u001b[0;34m\u001b[0m\u001b[0;34m\u001b[0m\u001b[0m\n\u001b[0;32m----> 3\u001b[0;31m \u001b[0mEnergy\u001b[0m \u001b[0;34m=\u001b[0m \u001b[0mMass\u001b[0m \u001b[0;34m*\u001b[0m \u001b[0mSpeedOfLight\u001b[0m\u001b[0;34m**\u001b[0m\u001b[0;36m2\u001b[0m\u001b[0;34m\u001b[0m\u001b[0;34m\u001b[0m\u001b[0m\n\u001b[0m",
      "\u001b[0;31mNameError\u001b[0m: name 'SpeedOfLight' is not defined"
     ]
    }
   ],
   "source": [
    "# Example \n",
    "Mass = 1000000\n",
    "Energy = Mass * SpeedOfLight**2 "
   ]
  },
  {
   "cell_type": "markdown",
   "metadata": {},
   "source": [
    "Notice how the interpreter now tells us that SpeedOfLight is undefined - so a simple fix is to define it and try again"
   ]
  },
  {
   "cell_type": "code",
   "execution_count": 6,
   "metadata": {},
   "outputs": [],
   "source": [
    "# Example \n",
    "Mass = 1000000  #kilograms\n",
    "SpeedOfLight = 299792458  #meters per second\n",
    "Energy = Mass * SpeedOfLight**2 "
   ]
  },
  {
   "cell_type": "markdown",
   "metadata": {},
   "source": [
    "Now the script ran without any reported errors, but we have not instructed the program on how to produce output.  To keep the example simple we will just add a generic print statement."
   ]
  },
  {
   "cell_type": "code",
   "execution_count": 7,
   "metadata": {},
   "outputs": [
    {
     "name": "stdout",
     "output_type": "stream",
     "text": [
      "Energy is: 89875517873681764000000 Newton meters\n"
     ]
    }
   ],
   "source": [
    "# Example \n",
    "Mass = 1000000  #kilograms\n",
    "SpeedOfLight = 299792458  #meters per second\n",
    "Energy = Mass * SpeedOfLight**2 \n",
    "print(\"Energy is:\", Energy, \"Newton meters\")"
   ]
  },
  {
   "cell_type": "markdown",
   "metadata": {},
   "source": [
    "## Fundamental Operators\n",
    "\n",
    "### Assignment Operator\n",
    "\n",
    "The `=` sign used in a statement is called an assignment operator (or assignment sign). \n",
    "The symbol means that the expression to the right of the symbol is to be evaluated and the result placed into the variable on the left side of the symbol.  The \"operation\" is assignment, the \"=\" symbol is the operator name.\n",
    "\n",
    "Consider the script below"
   ]
  },
  {
   "cell_type": "code",
   "execution_count": 2,
   "metadata": {},
   "outputs": [
    {
     "name": "stdout",
     "output_type": "stream",
     "text": [
      "5 10\n",
      "10 10\n"
     ]
    }
   ],
   "source": [
    "x = 5  # assign constant 5 into a container named x \n",
    "y = 10 # assign constant 10 into a containernamed x\n",
    "print (x,y) # print the contents of containers x and y\n",
    "x=y # put contents of y into x\n",
    "print (x,y) # print the contents of containers x and y"
   ]
  },
  {
   "cell_type": "markdown",
   "metadata": {},
   "source": [
    "### Arithmetic Operators\n",
    "\n",
    "In addition to assignment we can also perform arithmetic operations on containers. The\n",
    "fundamental arithmetic operators are:\n",
    "\n",
    "| Symbol | Meaning | Example |\n",
    "|:---|:---|:---|\n",
    "| = |Assignment| x=3 Assigns value of 3 to x.|\n",
    "| + |Addition| x+y Adds values in x and y.|\n",
    "| - |Subtraction| x-y Subtracts values in y from x.|\n",
    "| * |Multiplication| x*y Multiplies values in x and y.|\n",
    "| / |Division| x/y Divides value in x by value in y.|\n",
    "| // |Floor division| x//y Divide x by y, truncate result to whole number.|\n",
    "| % |Modulus| x%y Returns remainder when x is divided by y.|\n",
    "| ** |Exponentation| x ** y Raises value in x by value in y. ( e.g. x ** y)|\n",
    "| += |Additive assignment| x+=2 Equivalent to x = x+2.|\n",
    "| -= |Subtractive assignment| x-=2 Equivalent to x = x-2.|\n",
    "| *= |Multiplicative assignment| x\\*=3 Equivalent to x = x\\*3.|\n",
    "| /= |Divide assignment| x/3 Equivalent to x = x/3.|\n",
    "\n",
    "Run the script in the next cell for some illustrative results\n",
    "\n",
    "## arithmetic expressions"
   ]
  },
  {
   "cell_type": "code",
   "execution_count": 10,
   "metadata": {},
   "outputs": [
    {
     "name": "stdout",
     "output_type": "stream",
     "text": [
      "10 5\n",
      "15\n",
      "5\n",
      "50\n",
      "2.0\n",
      "2\n",
      "1\n",
      "100000\n"
     ]
    }
   ],
   "source": [
    "# Uniary Arithmetic Operators\n",
    "x = 10\n",
    "y = 5\n",
    "print(x, y)\n",
    "print(x+y)\n",
    "print(x-y)\n",
    "print(x*y)\n",
    "print(x/y)\n",
    "print((x+1)//y)\n",
    "print((x+1)%y)\n",
    "print(x**y)"
   ]
  },
  {
   "cell_type": "code",
   "execution_count": 11,
   "metadata": {},
   "outputs": [
    {
     "name": "stdout",
     "output_type": "stream",
     "text": [
      "<class 'int'> 3\n",
      "<class 'int'> -1\n",
      "<class 'int'> 3\n",
      "<class 'float'> 5.0\n"
     ]
    }
   ],
   "source": [
    "# Arithmetic assignment operators\n",
    "x = 1\n",
    "x += 2\n",
    "print(type(x),x)\n",
    "x = 1\n",
    "x -= 2\n",
    "print(type(x),x)\n",
    "x = 1\n",
    "x *=3\n",
    "print(type(x),x)\n",
    "x = 10\n",
    "x /= 2\n",
    "print(type(x),x)  # Interesting what division does to variable type"
   ]
  },
  {
   "cell_type": "markdown",
   "metadata": {},
   "source": [
    "## simple output: print()\n",
    "\n",
    "## Readings\n",
    "\n",
    "Learn Python in One Day and Learn It Well. Python for Beginners with Hands-on Project. (Learn Coding Fast with Hands-On Project Book -- Kindle Edition by LCF Publishing (Author), Jamie Chan [https://www.amazon.com/Python-2nd-Beginners-Hands-Project-ebook/dp/B071Z2Q6TQ/ref=sr_1_3?dchild=1&keywords=learn+python+in+a+day&qid=1611108340&sr=8-3](https://www.amazon.com/Python-2nd-Beginners-Hands-Project-ebook/dp/B071Z2Q6TQ/ref=sr_1_3?dchild=1&keywords=learn+python+in+a+day&qid=1611108340&sr=8-3)"
   ]
  },
  {
   "cell_type": "markdown",
   "metadata": {},
   "source": []
  },
  {
   "cell_type": "code",
   "execution_count": null,
   "metadata": {},
   "outputs": [],
   "source": []
  }
 ],
 "metadata": {
  "kernelspec": {
   "display_name": "Python 3",
   "language": "python",
   "name": "python3"
  },
  "language_info": {
   "codemirror_mode": {
    "name": "ipython",
    "version": 3
   },
   "file_extension": ".py",
   "mimetype": "text/x-python",
   "name": "python",
   "nbconvert_exporter": "python",
   "pygments_lexer": "ipython3",
   "version": "3.8.10"
  }
 },
 "nbformat": 4,
 "nbformat_minor": 4
}
