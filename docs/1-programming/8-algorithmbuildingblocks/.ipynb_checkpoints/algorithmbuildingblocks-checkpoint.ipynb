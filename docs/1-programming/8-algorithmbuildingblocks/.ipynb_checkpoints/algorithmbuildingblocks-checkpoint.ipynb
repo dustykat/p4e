{
 "cells": [
  {
   "cell_type": "markdown",
   "metadata": {},
   "source": [
    "# Algorithm Building Blocks\n",
    "\n",
    "All programs are made up of three fundamental patterns of control or flow:\n",
    "\n",
    "1. Sequence - one instruction after another\n",
    "2. Selection (Conditional) - A group of instructions may or may not be executed, depending on some condition\n",
    "3. Repetition (Loop) – A group of instructions repeated multiple times\n",
    "\n",
    "---\n"
   ]
  },
  {
   "cell_type": "markdown",
   "metadata": {},
   "source": [
    "## Sequential Structure\n",
    "\n",
    "All programs are made up of combinations of these patterns (plus one more we’ll discuss later).  \n",
    "The simplest pattern, sequence, means that one computer instruction, or “line of code” is executed after another, in sequence.  It is the default pattern."
   ]
  },
  {
   "cell_type": "code",
   "execution_count": 27,
   "metadata": {},
   "outputs": [],
   "source": [
    "%reset -f"
   ]
  },
  {
   "cell_type": "code",
   "execution_count": 28,
   "metadata": {},
   "outputs": [
    {
     "name": "stdout",
     "output_type": "stream",
     "text": [
      "15\n"
     ]
    }
   ],
   "source": [
    "x = 5\n",
    "y = 10\n",
    "x = x + y\n",
    "print(x)"
   ]
  },
  {
   "cell_type": "markdown",
   "metadata": {},
   "source": [
    "In a Jupyter notebook, the instructions in a cell are executed, following the pattern(s) in the code in that cell.  \n",
    "The code in cells form a continuous program, but the order depends on the order of the cells the user chooses to execute."
   ]
  },
  {
   "cell_type": "code",
   "execution_count": 29,
   "metadata": {},
   "outputs": [],
   "source": [
    "x = 5\n",
    "y = 10\n",
    "x = x + y"
   ]
  },
  {
   "cell_type": "code",
   "execution_count": 30,
   "metadata": {},
   "outputs": [],
   "source": [
    "x = x*2"
   ]
  },
  {
   "cell_type": "code",
   "execution_count": 31,
   "metadata": {},
   "outputs": [
    {
     "data": {
      "text/plain": [
       "34"
      ]
     },
     "execution_count": 31,
     "metadata": {},
     "output_type": "execute_result"
    }
   ],
   "source": [
    "x + 4"
   ]
  },
  {
   "cell_type": "markdown",
   "metadata": {},
   "source": [
    "## Selection Structures\n",
    "\n",
    "Selection is a pattern where the flow of execution branches one way or another, depending on a condition.  The Python statements related to selection are `if` statements.\n",
    "\n",
    "**`if` statement**\n",
    "\n",
    "In the simple if statement, the body of the if statement (the indented instructions following the colon at the end of the if) is only executed if the condition evaluates to True.  The statements following the if statement body that are indented at the same level as the if are always executed regardless of the value of the condition.\n",
    "\n"
   ]
  },
  {
   "cell_type": "code",
   "execution_count": 40,
   "metadata": {},
   "outputs": [
    {
     "name": "stdin",
     "output_type": "stream",
     "text": [
      "Enter value for x (numeric) 9\n"
     ]
    },
    {
     "name": "stdout",
     "output_type": "stream",
     "text": [
      "40\n"
     ]
    }
   ],
   "source": [
    "y = 2\n",
    "x = int(input('Enter value for x (numeric)'))\n",
    "if x < 10:\n",
    "    y = 20\n",
    "y = y * 2\n",
    "print(y)"
   ]
  },
  {
   "cell_type": "markdown",
   "metadata": {},
   "source": [
    "**`if-else` statement**\n",
    "\n",
    "When there are 2 possibilities, an if-else is used.  The else clause (the statements indented after the else statement) are executed if the condition specified with the if is False.  The else is never followed by a condition, just a colon.  In the example above, the body of the if (y = 20) is executed if x < 10, and the body of the else (y = 2) is executed if x is not less than 10 (x >= 10)."
   ]
  },
  {
   "cell_type": "code",
   "execution_count": 43,
   "metadata": {},
   "outputs": [
    {
     "name": "stdin",
     "output_type": "stream",
     "text": [
      "Enter value for x (numeric) 9\n"
     ]
    },
    {
     "name": "stdout",
     "output_type": "stream",
     "text": [
      "40\n"
     ]
    }
   ],
   "source": [
    "x = int(input('Enter value for x (numeric)'))\n",
    "if x < 10:\n",
    "    y = 20\n",
    "else:\n",
    "    y = 2\n",
    "y = y * 2\n",
    "print(y)"
   ]
  },
  {
   "cell_type": "markdown",
   "metadata": {},
   "source": [
    "**`if-elif-else` statement**\n",
    "\n",
    "When there are multiple possibilities, the the `if-elif-else` statement is used.  An `if` statement may have just one `if` and one `else` clause, but it may have multiple `elif` (else if) clauses.  In the example, the `else` is executed only if x is greater than 10, because the cases of x less than 10 and x equal to 10 are already covered.  Notice that the `==` operator is used to test for equality, because `=` is used for assignment.  Each `elif` clause must have its own condition, followed by a colon."
   ]
  },
  {
   "cell_type": "code",
   "execution_count": 45,
   "metadata": {},
   "outputs": [
    {
     "name": "stdin",
     "output_type": "stream",
     "text": [
      "Enter value for x (numeric) 9\n"
     ]
    },
    {
     "name": "stdout",
     "output_type": "stream",
     "text": [
      "40\n"
     ]
    }
   ],
   "source": [
    "x = int(input('Enter value for x (numeric)'))\n",
    "if x < 10:\n",
    "    y = 20\n",
    "elif x == 10:\n",
    "    y = 4\n",
    "else:\n",
    "    y = 2\n",
    "y = y * 2\n",
    "print(y)"
   ]
  },
  {
   "cell_type": "markdown",
   "metadata": {},
   "source": [
    "---\n",
    "\n",
    "## Repetition (Loop) Structures\n",
    "\n",
    "Obviously, a powerful part of programming is that you can write a single piece of code, and execute it as many times as needed, from once to millions of times.\n",
    "Python has two types of loop structures, the `for` loop and the `while` loop."
   ]
  },
  {
   "cell_type": "markdown",
   "metadata": {},
   "source": [
    "**`for` loop**\n",
    " \n",
    "The `for` loop iterates (loops) over a set of values, and it is used along with the `in` keyword.\n",
    "The simplest version iterates over a set of integers created using the `range()` function."
   ]
  },
  {
   "cell_type": "code",
   "execution_count": 49,
   "metadata": {},
   "outputs": [
    {
     "name": "stdout",
     "output_type": "stream",
     "text": [
      "0\n",
      "1\n",
      "2\n"
     ]
    }
   ],
   "source": [
    "for index in range(3):\n",
    "        print( index )"
   ]
  },
  {
   "cell_type": "markdown",
   "metadata": {},
   "source": [
    "In this case, `range()` produces the set of integers from 0 to 2, inclusive. Notice how the last value 3 is not returned by range().  This behavior is python specific, and range() returns values up to, but not including the stopping value - another way to interpret is start at 0 and produce 3 values, including the zero - the syntax below is more reflective of such thinking:"
   ]
  },
  {
   "cell_type": "code",
   "execution_count": 50,
   "metadata": {},
   "outputs": [
    {
     "name": "stdout",
     "output_type": "stream",
     "text": [
      "0\n",
      "1\n",
      "2\n"
     ]
    }
   ],
   "source": [
    "for index in range(0,3):\n",
    "        print( index )"
   ]
  },
  {
   "cell_type": "markdown",
   "metadata": {},
   "source": [
    "**`while` loop**\n",
    " \n",
    "The while loop iterates (loops) while some condition remains True.\n",
    "The condition is specified by a Boolean expression (True/False)"
   ]
  },
  {
   "cell_type": "code",
   "execution_count": 54,
   "metadata": {},
   "outputs": [
    {
     "name": "stdout",
     "output_type": "stream",
     "text": [
      "0 10\n",
      "6 4\n"
     ]
    }
   ],
   "source": [
    "x = 0\n",
    "y = 10\n",
    "print(x,y)\n",
    "while x < y:\n",
    "    x += 2\n",
    "    y -= 2\n",
    "print(x,y)"
   ]
  },
  {
   "cell_type": "markdown",
   "metadata": {},
   "source": [
    "The statements in the loop body are executed while the condition x < y remains True."
   ]
  },
  {
   "cell_type": "markdown",
   "metadata": {},
   "source": [
    "As with the for loop, the while loop statement ends in a colon, and the loop body is indented (and ends when the indentation level returns to the same level as the while.\n",
    "\n",
    "A Boolean expression is any expression that evaluates to True or False.  Expression that include the relational operators or the logical operators are Boolean expressions.  Also, the integer value 0 is False and a non-zero value is True, and there are other special cases, for example, the empty string “” is False.\n",
    "\n",
    "With while loops, the usefulness of the := (assignment that also evaluates) becomes clear."
   ]
  },
  {
   "cell_type": "code",
   "execution_count": 56,
   "metadata": {},
   "outputs": [
    {
     "name": "stdin",
     "output_type": "stream",
     "text": [
      "Please enter a string or 'quit' to stop:  what is my name\n"
     ]
    },
    {
     "name": "stdout",
     "output_type": "stream",
     "text": [
      "Your string's length is \n",
      "15\n"
     ]
    },
    {
     "name": "stdin",
     "output_type": "stream",
     "text": [
      "Please enter a string or 'quit' to stop:  quit\n"
     ]
    }
   ],
   "source": [
    "while (str := input(\"Please enter a string or 'quit' to stop: \")) != 'quit':\n",
    "    print( \"Your string's length is \" )\n",
    "    print( len(str) )"
   ]
  },
  {
   "cell_type": "markdown",
   "metadata": {},
   "source": [
    "versus"
   ]
  },
  {
   "cell_type": "code",
   "execution_count": 57,
   "metadata": {},
   "outputs": [
    {
     "name": "stdin",
     "output_type": "stream",
     "text": [
      "Please enter a string or 'quit' to stop:  what is my name\n"
     ]
    },
    {
     "name": "stdout",
     "output_type": "stream",
     "text": [
      "Your string's length is \n",
      "15\n"
     ]
    },
    {
     "name": "stdin",
     "output_type": "stream",
     "text": [
      "Please enter a value or 'quit' to stop:  quit\n"
     ]
    }
   ],
   "source": [
    "str = input(\"Please enter a string or 'quit' to stop: \")\n",
    "while str != 'quit':\n",
    "    print( \"Your string's length is \" )\n",
    "    print( len(str) )\n",
    "    str = input(\"Please enter a value or 'quit' to stop: \")"
   ]
  },
  {
   "cell_type": "markdown",
   "metadata": {},
   "source": [
    "A for loop can be considered a special case of a while loop, in the sense that a for loop continues while the end of the sequence of values has not been reached."
   ]
  },
  {
   "cell_type": "markdown",
   "metadata": {},
   "source": [
    "## Flowcharts\n",
    "\n",
    "### What is a Flowchart?\n",
    "\n",
    "A flowchart is a type of diagram that represents a workflow or process. A flowchart can also be defined as a diagrammatic representation of an algorithm, a step-by-step approach to solving a task.\n",
    "\n",
    "![](flowchart.png)\n",
    "\n",
    "|Figure 2|Repair Flowchart for a Lamp|https://en.wikipedia.org/wiki/Flowchart|\n",
    "|:---|:---|:---|\n",
    "\n",
    "The flowchart shows the steps as boxes of various kinds, and their order by connecting the boxes with arrows. This diagrammatic representation illustrates a solution model to a given problem. Flowcharts are used in analyzing, designing, documenting or managing a process or program in various fields.\n",
    "\n",
    "There is a symbol convention (a language) as depicted in Figure 2 below (from: https://en.wikipedia.org/wiki/Flowchart)\n",
    "\n",
    "![](flowchartsymbols.png)\n",
    "\n",
    "|Figure 1|Flowchart Symbols|https://en.wikipedia.org/wiki/Flowchart|\n",
    "|:---|:---|:---|\n",
    "\n",
    "IBM engineers implemented programming flowcharts based upon Goldstine and von Neumann's unpublished report, \"Planning and coding of problems for an electronic computing instrument, Part II, Volume 1\" (1947), which is reproduced in von Neumann's collected works.\n",
    "\n",
    "The flowchart became a popular tool for describing computer algorithms, but its popularity decreased in the 1970s, when interactive computer terminals and third-generation programming languages became common tools for computer programming, since algorithms can be expressed more concisely as source code in such languages. Often pseudo-code is used, which uses the common idioms of such languages without strictly adhering to the details of a particular one.\n",
    "\n",
    "Nowadays flowcharts are still used for describing computer algorithms.[9] Modern techniques such as UML activity diagrams and Drakon-charts can be considered to be extensions of the flowchart.\n",
    "\n",
    "Nearly all flowcharts focus on on some kind of control, rather than on the particular flow itself!  While quaint today, they are an effective way to document processes in a program and visualize structures.  We recomend you get in the habit of making rudimentary flowcharts, at least at the supervisory level (the sandwich chart above)\n",
    "\n",
    "### How are they useful?\n",
    "(paraphrased from [https://www.breezetree.com/articles/top-reasons-to-flowchart](https://www.breezetree.com/articles/top-reasons-to-flowchart))\n",
    "\n",
    "Sometimes it's more effective to visualize something graphically that it is to describe it with words. That is the essence of what flowcharts do for you. Flowcharts explain a process clearly through symbols and text. Moreover, flowcharts give you the gist of the process flow in a single glance. The following are some of the more salient reasons to use flowcharts.\n",
    "\n",
    "**Process Documentation / Training Materials**\n",
    "Another common use for flowcharts is to create process documentation. Although this reason overlaps with regulatory and quality management requirements (below), many non-regulated businesses use flowcharts for their documentation as well. These can range in form from high-level procedures to low-level, detailed work instructions.\n",
    "\n",
    "You may think that this applies mainly to large organizations, but small companies can greatly benefit from flowcharting their processes as well. Small enterprises need to be nimble and organized. Standardizing their processes is a great way to achieve this. In fact, the popular entrepreneurial book The E-Myth Revisited: Why Most Small Businesses Don't Work and What to Do About It by Michael Gerber is based on the fact that small businesses are more likely to succeed if they treat their operations like a franchise. in a nutshell, this means standardizing and documenting their business processes. There's no better way to do that than with flowcharts, right?\n",
    "\n",
    "Training materials are often created using flowcharts because they're visually stimulating and easy to understand. A nicely laid out flowchart will gain and hold the reader's attention when a block of text will often fail.\n",
    "\n",
    "\n",
    "**Workflow Management and Continuous Improvement**\n",
    "Workflows don't manage themselves. To ensure that you are meeting your customers' needs, you need to take control of your business processes. The first step to workflow management is to define the current state of your processes by creating an \"As-Is Flowchart\". That allows you to analyze your processes for waste and inefficiency. After you have identified areas for process improvement, you can then craft new flowcharts to document the leaner processes.\n",
    "\n",
    "\n",
    "**Programming**\n",
    "Information technology played a big influence on the use and spread of flowcharts in the 20th century. While Dr. W. Edwards Deming was advocating their use in quality management, professionals in the data processing world were using them to flesh out their programming logic. Flowcharts were a mainstay of procedural programming, however, and with the advent of object oriented programming and various modeling tools, the use of flowcharts for programming is no longer as commonplace as it once was.\n",
    "\n",
    "That said, even with in the scope of object oriented programming, complex program logic can be modeled effectively using a flowchart. Moreover, diagramming the user's experience as they navigate through a program is a valuable prerequisite prior to designing the user interface. So flowcharts still have their place in the world of programming.\n",
    "\n",
    "\n",
    "**Troubleshooting Guides**\n",
    "Most of us have come across a troubleshooting flowchart at one time or another. These are usually in the form of Decision Trees that progressively narrow the range of possible solutions based on a series of criteria. The effectiveness of these types of flowcharts depends on how neatly the range of problems and solutions can fit into a simple True/False diagnosis model. A well done troubleshooting flowcharts can cut the problem solving time greatly.\n",
    "\n",
    "**Regulatory and Quality Management Requirements**\n",
    "Your business processes may be subject to regulatory requirements such as Sarbanes-Oxley (SOX), which requires that your accounting procedures be clearly defined and documented. An easy way to do this is to create accounting flowcharts for all your accounting processes.\n",
    "\n",
    "Similarly, many organizations fall under certification requirements for quality management systems - such as ISO 9000, TS 16949, or one of the many others. In such environments, flowcharts are not only useful but in certain clauses they are actually mandated."
   ]
  },
  {
   "cell_type": "markdown",
   "metadata": {},
   "source": [
    "## Psuedocode\n",
    "\n",
    "Define"
   ]
  },
  {
   "cell_type": "markdown",
   "metadata": {},
   "source": [
    "## Readings\n",
    "\n",
    "1. Learn Python in One Day and Learn It Well. Python for Beginners with Hands-on Project. (Learn Coding Fast with Hands-On Project Book -- Kindle Edition by LCF Publishing (Author), Jamie Chan [https://www.amazon.com/Python-2nd-Beginners-Hands-Project-ebook/dp/B071Z2Q6TQ/ref=sr_1_3?dchild=1&keywords=learn+python+in+a+day&qid=1611108340&sr=8-3](https://www.amazon.com/Python-2nd-Beginners-Hands-Project-ebook/dp/B071Z2Q6TQ/ref=sr_1_3?dchild=1&keywords=learn+python+in+a+day&qid=1611108340&sr=8-3)\n",
    "\n",
    "2. Learn Python the Hard Way (Online Book) (https://learnpythonthehardway.org/book/)  Recommended for beginners who want a complete course in programming with Python.\n",
    "\n",
    "3. How to Learn Python for Data Science, The Self-Starter Way (https://elitedatascience.com/learn-python-for-data-science) \n",
    "\n",
    "4. Flowcharts (QA/QC Perspective) [https://asq.org/quality-resources/flowchart](https://asq.org/quality-resources/flowchart)\n",
    "\n",
    "5. Flowcharts - Wikipedia [https://en.wikipedia.org/wiki/Flowchart](https://en.wikipedia.org/wiki/Flowchart)\n",
    "\n",
    "6. Psuedocode - Wikipedia [https://en.wikipedia.org/wiki/Pseudocode](https://en.wikipedia.org/wiki/Pseudocode)"
   ]
  },
  {
   "cell_type": "code",
   "execution_count": null,
   "metadata": {},
   "outputs": [],
   "source": []
  }
 ],
 "metadata": {
  "kernelspec": {
   "display_name": "Python 3",
   "language": "python",
   "name": "python3"
  },
  "language_info": {
   "codemirror_mode": {
    "name": "ipython",
    "version": 3
   },
   "file_extension": ".py",
   "mimetype": "text/x-python",
   "name": "python",
   "nbconvert_exporter": "python",
   "pygments_lexer": "ipython3",
   "version": "3.8.10"
  }
 },
 "nbformat": 4,
 "nbformat_minor": 4
}
