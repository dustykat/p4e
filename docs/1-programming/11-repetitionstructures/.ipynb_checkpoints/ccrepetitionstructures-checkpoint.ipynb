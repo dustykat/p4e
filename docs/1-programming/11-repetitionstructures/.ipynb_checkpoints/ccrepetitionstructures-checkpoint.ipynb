{
 "cells": [
  {
   "cell_type": "markdown",
   "metadata": {},
   "source": [
    "# Repetition Structures\n",
    "\n",
    "The action of doing something over and over again (repetition) is called a loop - the name becomes apparent when we examine a flowchart representation of repetition.  Loops repeat a portion of code a finite number of times until a process is complete. Repetitive tasks are very common and essential in programming. They save time in coding, minimize coding errors, and leverage the speed of electronic computation.\n",
    "\n",
    "## Loop Analogs\n",
    "If you think any mass manufacturing process, we apply the same process again and again. Even for something very simple such as preparing a peanut butter sandwich:\n",
    "\n",
    "Consider the ***flowchart*** in Figure 1, it represents a decomposition of sandwich assembly, but at a high level -- for instance, `Gather Ingredients` contains a lot of substeps that would need to be decomposed if fully automated assembly were to be accomplished; nevertheless lets stipulate that this flowchart will indeed construct a single sandwich.\n",
    "\n",
    "![](sandwichchart.png)\n",
    "\n",
    "|Figure 1|Supervisory Flowchart Sandwich Assembly (adapted from http://www.str-tn.org/subway_restaurant_training_manual.pdf) ||\n",
    "|:---|:---|:---|\n",
    "\n",
    "If we need to make 1000 peanut butter sandwichs we would then issue a directive to:\n",
    "\n",
    "1) Implement sandwich assembly, repeat 999 times (repeat is the loop structure) (A serial structure, 1 sandwich artist, doing same job over and over again)\n",
    "\n",
    "**OR**\n",
    "\n",
    "2) Implement 1000 sandwich assembly threads (A parallel structure, 1000 sandwich artists doing same job once)\n",
    "\n",
    "In general because we dont want to idle 999 sandwich artists, we would choose the serial structure, which frees 999 people to ask the existential question \"would you like fries with that?\"\n",
    "\n",
    "All cynicism aside, an automated process such as a loop, is typical in computational processing. \n",
    "\n",
    "***Aside*** NVIDIA CUDA, and AMD OpenGL compilers can detect the structure above, and if there are enough GPU threads available , create the 1000 sandwich artists (1000 GPU threads), and run the process in parallel -- the actual workload is unchanged in a thermodynamic sense, but the apparent time (in human terms) spent in sandwich creation is a fraction of the serial approach.  This parallelization is called unrolling the loop, and is a pretty common optimization step during compilation. This kind of programming is outside the scope of this class.\n",
    "\n",
    "Main attractiveness of loops is:\n",
    "- Leveraging  `pattern matching` and `automation`\n",
    "- Code is more organized and shorter,because a loop is a sequence of instructions that is continually repeated until a certain condition is reached. \n",
    "\n",
    "There are 2 main types loops based on the repetition control condition; `for` loops and `while`loops.\n",
    "\n",
    "---\n"
   ]
  },
  {
   "cell_type": "markdown",
   "metadata": {},
   "source": [
    "# Count controlled repetition `for` loop structure)\n",
    "Count-controlled repetition is also called definite repetition because the number of repetitions is known before the loop begins executing. \n",
    "When we do not know in advance the number of times we want to execute a statement, we cannot use count-controlled repetition (`while` structure discussed later). \n",
    "In such an instance, we would use sentinel-controlled repetition. \n",
    "\n",
    "A count-controlled repetition will exit after running a certain number of times. \n",
    "The count is kept in a variable called an index or counter. \n",
    "When the index reaches a certain value (the loop bound) the loop will end. \n",
    "\n",
    "Count-controlled repetition requires\n",
    "\n",
    "* control variable (or loop counter)\n",
    "* initial value of the control variable\n",
    "* increment (or decrement) by which the control variable is modified each iteration through the loop\n",
    "* condition that tests for the final value of the control variable \n",
    "\n",
    "We can use both `for` and `while` loops, for count controlled repetition, but the `for` loop in combination with the `range()` function is more common.\n",
    "\n",
    "### Structured `FOR` loop\n",
    "We have seen the for loop already, but we will formally introduce it here. The `for` loop executes a block of code repeatedly until the condition in the `for` statement is no longer true.\n",
    "\n",
    "### Looping through an iterable\n",
    "An iterable is anything that can be looped over - typically a list, string, or tuple. \n",
    "The syntax for looping through an iterable is illustrated by an example.\n",
    "\n",
    "First a generic syntax\n",
    "\n",
    "    for a in iterable:\n",
    "    print(a)\n",
    "    \n",
    "Notice our friends the colon `:` and the indentation.\n",
    "\n",
    "#### The `range()` function to create an iterable\n",
    "\n",
    "The `range(begin,end,increment)` function will create an iterable starting at a value of begin, in steps defined by increment (`begin += increment`), ending at `end`. \n",
    "\n",
    "So a generic syntax becomes\n",
    "\n",
    "    for a in range(begin,end,increment):\n",
    "    print(a)\n",
    "\n",
    "The examples that follow are count-controlled repetition (increment skip if greater)"
   ]
  },
  {
   "cell_type": "markdown",
   "metadata": {},
   "source": [
    "## Example `for` loops"
   ]
  },
  {
   "cell_type": "code",
   "execution_count": 1,
   "metadata": {},
   "outputs": [
    {
     "name": "stdin",
     "output_type": "stream",
     "text": [
      "Enter N 9\n"
     ]
    },
    {
     "name": "stdout",
     "output_type": "stream",
     "text": [
      "Sum from 1 to  9 is 45.000\n"
     ]
    }
   ],
   "source": [
    "# sum numbers from 1 to n\n",
    "howmany = int(input('Enter N'))\n",
    "accumulator = 0.0\n",
    "for i in range(1,howmany+1,1):\n",
    "    accumulator = accumulator + float(i)\n",
    "print( 'Sum from 1 to ',howmany, 'is %.3f' % accumulator  )"
   ]
  },
  {
   "cell_type": "code",
   "execution_count": 10,
   "metadata": {},
   "outputs": [
    {
     "name": "stdin",
     "output_type": "stream",
     "text": [
      "Enter N 9\n"
     ]
    },
    {
     "name": "stdout",
     "output_type": "stream",
     "text": [
      "Sum of Evens from 1 to  9 is 20.000\n"
     ]
    }
   ],
   "source": [
    "# sum even numbers from 1 to n\n",
    "howmany = int(input('Enter N'))\n",
    "accumulator = 0.0\n",
    "for i in range(1,howmany+1,1):\n",
    "    if i%2 == 0:\n",
    "        accumulator = accumulator + float(i)\n",
    "print( 'Sum of Evens from 1 to ',howmany, 'is %.3f' % accumulator  )"
   ]
  },
  {
   "cell_type": "code",
   "execution_count": 11,
   "metadata": {},
   "outputs": [
    {
     "name": "stdin",
     "output_type": "stream",
     "text": [
      "Enter N 9\n"
     ]
    },
    {
     "name": "stdout",
     "output_type": "stream",
     "text": [
      "*\n",
      "**\n",
      "***\n",
      "****\n",
      "*****\n",
      "******\n",
      "*******\n",
      "********\n",
      "*********\n"
     ]
    }
   ],
   "source": [
    "howmany = int(input('Enter N'))\n",
    "linetoprint=''\n",
    "for i in range(1,howmany+1,1):\n",
    "    linetoprint=linetoprint + '*'\n",
    "    print(linetoprint)"
   ]
  },
  {
   "cell_type": "markdown",
   "metadata": {},
   "source": [
    "## Nested Repetition\n",
    "\n",
    "Nested repetition is when a control structure is placed inside of the body or main part of another control structure."
   ]
  },
  {
   "cell_type": "markdown",
   "metadata": {},
   "source": [
    "#### `break` to exit out of a loop\n",
    "\n",
    "Sometimes you may want to exit the loop when a certain condition different from the counting\n",
    "condition is met. Perhaps you are looping through a list and want to exit when you find the\n",
    "first element in the list that matches some criterion. The break keyword is useful for such\n",
    "an operation.\n",
    "\n",
    "For example run the following program:"
   ]
  },
  {
   "cell_type": "code",
   "execution_count": 15,
   "metadata": {},
   "outputs": [
    {
     "name": "stdout",
     "output_type": "stream",
     "text": [
      "i =  0 j =  2\n",
      "i =  1 j =  4\n",
      "i =  2 j =  6\n"
     ]
    }
   ],
   "source": [
    "#\n",
    "j = 0\n",
    "for i in range(0,9,1):\n",
    "    j += 2\n",
    "    print (\"i = \",i,\"j = \",j)\n",
    "    if j == 6:\n",
    "        break   "
   ]
  },
  {
   "cell_type": "code",
   "execution_count": 16,
   "metadata": {},
   "outputs": [
    {
     "name": "stdout",
     "output_type": "stream",
     "text": [
      "i =  0 j =  2\n",
      "i =  1 j =  4\n",
      "i =  2 j =  6\n",
      "i =  3 j =  8\n",
      "i =  4 j =  10\n"
     ]
    }
   ],
   "source": [
    "j = 0\n",
    "for i in range(0,5,1):\n",
    "    j += 2\n",
    "    print( \"i = \",i,\"j = \",j)\n",
    "    if j == 7:\n",
    "        break"
   ]
  },
  {
   "cell_type": "markdown",
   "metadata": {},
   "source": [
    "In the first case, the for loop only executes 3 times before the condition j == 6 is TRUE and the loop is exited. \n",
    "In the second case, j == 7 never happens so the loop completes all its anticipated traverses.\n",
    "\n",
    "In both cases an `if` statement was used within a for loop. Such \"mixed\" control structures\n",
    "are quite common (and pretty necessary). \n",
    "A `while` loop contained within a `for` loop, with several `if` statements would be very common and such a structure is called __nested control.__\n",
    "There is typically an upper limit to nesting but the limit is pretty large - easily in the\n",
    "hundreds. It depends on the language and the system architecture ; suffice to say it is not\n",
    "a practical limit except possibly for general-domain AI applications.\n",
    "<hr>"
   ]
  },
  {
   "cell_type": "markdown",
   "metadata": {},
   "source": [
    "We can also do mundane activities and leverage loops, arithmetic, and format codes to make useful tables like\n"
   ]
  },
  {
   "cell_type": "code",
   "execution_count": 17,
   "metadata": {
    "collapsed": true,
    "jupyter": {
     "outputs_hidden": true
    }
   },
   "outputs": [
    {
     "name": "stdout",
     "output_type": "stream",
     "text": [
      "     Cosines     \n",
      "   x    |  cos(x) \n",
      "--------|--------\n",
      "0.000   |  1.0000 \n",
      "0.100   |  0.9950 \n",
      "0.200   |  0.9801 \n",
      "0.300   |  0.9553 \n",
      "0.400   |  0.9211 \n",
      "0.500   |  0.8776 \n",
      "0.600   |  0.8253 \n",
      "0.700   |  0.7648 \n",
      "0.800   |  0.6967 \n",
      "0.900   |  0.6216 \n",
      "1.000   |  0.5403 \n",
      "1.100   |  0.4536 \n",
      "1.200   |  0.3624 \n",
      "1.300   |  0.2675 \n",
      "1.400   |  0.1700 \n",
      "1.500   |  0.0707 \n",
      "1.600   |  -0.0292 \n",
      "1.700   |  -0.1288 \n",
      "1.800   |  -0.2272 \n",
      "1.900   |  -0.3233 \n",
      "2.000   |  -0.4161 \n",
      "2.100   |  -0.5048 \n",
      "2.200   |  -0.5885 \n",
      "2.300   |  -0.6663 \n",
      "2.400   |  -0.7374 \n",
      "2.500   |  -0.8011 \n",
      "2.600   |  -0.8569 \n",
      "2.700   |  -0.9041 \n",
      "2.800   |  -0.9422 \n",
      "2.900   |  -0.9710 \n",
      "3.000   |  -0.9900 \n",
      "3.100   |  -0.9991 \n",
      "3.200   |  -0.9983 \n",
      "3.300   |  -0.9875 \n",
      "3.400   |  -0.9668 \n",
      "3.500   |  -0.9365 \n",
      "3.600   |  -0.8968 \n",
      "3.700   |  -0.8481 \n",
      "3.800   |  -0.7910 \n",
      "3.900   |  -0.7259 \n",
      "4.000   |  -0.6536 \n",
      "4.100   |  -0.5748 \n",
      "4.200   |  -0.4903 \n",
      "4.300   |  -0.4008 \n",
      "4.400   |  -0.3073 \n",
      "4.500   |  -0.2108 \n",
      "4.600   |  -0.1122 \n",
      "4.700   |  -0.0124 \n",
      "4.800   |  0.0875 \n",
      "4.900   |  0.1865 \n",
      "5.000   |  0.2837 \n",
      "5.100   |  0.3780 \n",
      "5.200   |  0.4685 \n",
      "5.300   |  0.5544 \n",
      "5.400   |  0.6347 \n",
      "5.500   |  0.7087 \n",
      "5.600   |  0.7756 \n",
      "5.700   |  0.8347 \n",
      "5.800   |  0.8855 \n",
      "5.900   |  0.9275 \n",
      "6.000   |  0.9602 \n",
      "6.100   |  0.9833 \n",
      "6.200   |  0.9965 \n",
      "6.300   |  0.9999 \n",
      "6.400   |  0.9932 \n",
      "6.500   |  0.9766 \n",
      "6.600   |  0.9502 \n",
      "6.700   |  0.9144 \n",
      "6.800   |  0.8694 \n",
      "6.900   |  0.8157 \n",
      "7.000   |  0.7539 \n",
      "7.100   |  0.6845 \n",
      "7.200   |  0.6084 \n",
      "7.300   |  0.5261 \n",
      "7.400   |  0.4385 \n",
      "7.500   |  0.3466 \n",
      "7.600   |  0.2513 \n",
      "7.700   |  0.1534 \n",
      "7.800   |  0.0540 \n",
      "7.900   |  -0.0460 \n",
      "8.000   |  -0.1455 \n",
      "8.100   |  -0.2435 \n",
      "8.200   |  -0.3392 \n",
      "8.300   |  -0.4314 \n",
      "8.400   |  -0.5193 \n",
      "8.500   |  -0.6020 \n",
      "8.600   |  -0.6787 \n",
      "8.700   |  -0.7486 \n",
      "8.800   |  -0.8111 \n",
      "8.900   |  -0.8654 \n",
      "9.000   |  -0.9111 \n",
      "9.100   |  -0.9477 \n",
      "9.200   |  -0.9748 \n",
      "9.300   |  -0.9922 \n",
      "9.400   |  -0.9997 \n",
      "9.500   |  -0.9972 \n",
      "9.600   |  -0.9847 \n",
      "9.700   |  -0.9624 \n",
      "9.800   |  -0.9304 \n",
      "9.900   |  -0.8892 \n",
      "10.000   |  -0.8391 \n",
      "10.100   |  -0.7806 \n",
      "10.200   |  -0.7143 \n",
      "10.300   |  -0.6408 \n",
      "10.400   |  -0.5610 \n",
      "10.500   |  -0.4755 \n",
      "10.600   |  -0.3853 \n",
      "10.700   |  -0.2913 \n",
      "10.800   |  -0.1943 \n",
      "10.900   |  -0.0954 \n",
      "11.000   |  0.0044 \n",
      "11.100   |  0.1042 \n",
      "11.200   |  0.2030 \n",
      "11.300   |  0.2997 \n",
      "11.400   |  0.3935 \n",
      "11.500   |  0.4833 \n",
      "11.600   |  0.5683 \n",
      "11.700   |  0.6476 \n",
      "11.800   |  0.7204 \n",
      "11.900   |  0.7861 \n",
      "12.000   |  0.8439 \n",
      "12.100   |  0.8932 \n",
      "12.200   |  0.9336 \n",
      "12.300   |  0.9647 \n",
      "12.400   |  0.9862 \n",
      "12.500   |  0.9978 \n",
      "12.600   |  0.9994 \n",
      "12.700   |  0.9911 \n",
      "12.800   |  0.9728 \n",
      "12.900   |  0.9449 \n",
      "13.000   |  0.9074 \n",
      "13.100   |  0.8610 \n",
      "13.200   |  0.8059 \n",
      "13.300   |  0.7427 \n",
      "13.400   |  0.6722 \n",
      "13.500   |  0.5949 \n",
      "13.600   |  0.5117 \n",
      "13.700   |  0.4234 \n",
      "13.800   |  0.3308 \n",
      "13.900   |  0.2349 \n",
      "14.000   |  0.1367 \n",
      "14.100   |  0.0372 \n",
      "14.200   |  -0.0628 \n",
      "14.300   |  -0.1621 \n",
      "14.400   |  -0.2598 \n",
      "14.500   |  -0.3549 \n",
      "14.600   |  -0.4465 \n",
      "14.700   |  -0.5336 \n",
      "14.800   |  -0.6154 \n",
      "14.900   |  -0.6910 \n",
      "15.000   |  -0.7597 \n",
      "15.100   |  -0.8208 \n",
      "15.200   |  -0.8737 \n",
      "15.300   |  -0.9179 \n",
      "15.400   |  -0.9530 \n",
      "15.500   |  -0.9785 \n",
      "15.600   |  -0.9942 \n"
     ]
    }
   ],
   "source": [
    "import math # package that contains cosine\n",
    "print(\"     Cosines     \")\n",
    "print(\"   x   \",\"|\",\" cos(x) \")\n",
    "print(\"--------|--------\")\n",
    "for i in range(0,157,1):\n",
    "    x = float(i)*0.1\n",
    "    print(\"%.3f\" % x, \"  |\", \" %.4f \"  % math.cos(x)) # note the format code and the placeholder % and syntax "
   ]
  },
  {
   "cell_type": "markdown",
   "metadata": {},
   "source": [
    "#### The `continue` statement\n",
    "The continue instruction skips the block of code after it is executed for that iteration. \n",
    "It is\n",
    "best illustrated by an example."
   ]
  },
  {
   "cell_type": "code",
   "execution_count": 18,
   "metadata": {},
   "outputs": [
    {
     "name": "stdout",
     "output_type": "stream",
     "text": [
      "\n",
      " i =  0 , j =  2\n",
      " this message will be skipped over if j = 6 \n",
      "\n",
      " i =  1 , j =  4\n",
      " this message will be skipped over if j = 6 \n",
      "\n",
      " i =  2 , j =  6\n",
      "\n",
      " i =  3 , j =  8\n",
      " this message will be skipped over if j = 6 \n",
      "\n",
      " i =  4 , j =  10\n",
      " this message will be skipped over if j = 6 \n"
     ]
    }
   ],
   "source": [
    "j = 0\n",
    "for i in range(0,5,1):\n",
    "    j += 2\n",
    "    print (\"\\n i = \", i , \", j = \", j) #here the \\n is a newline command\n",
    "    if j == 6:\n",
    "        continue\n",
    "    print(\" this message will be skipped over if j = 6 \") # still within the loop, so the skip is implemented"
   ]
  },
  {
   "cell_type": "markdown",
   "metadata": {},
   "source": [
    "## Readings\n",
    "\n",
    "1. Learn Python in One Day and Learn It Well. Python for Beginners with Hands-on Project. (Learn Coding Fast with Hands-On Project Book -- Kindle Edition by LCF Publishing (Author), Jamie Chan [https://www.amazon.com/Python-2nd-Beginners-Hands-Project-ebook/dp/B071Z2Q6TQ/ref=sr_1_3?dchild=1&keywords=learn+python+in+a+day&qid=1611108340&sr=8-3](https://www.amazon.com/Python-2nd-Beginners-Hands-Project-ebook/dp/B071Z2Q6TQ/ref=sr_1_3?dchild=1&keywords=learn+python+in+a+day&qid=1611108340&sr=8-3)\n",
    "\n",
    "2. Learn Python the Hard Way (Online Book) (https://learnpythonthehardway.org/book/)  Recommended for beginners who want a complete course in programming with Python.\n",
    "\n",
    "3. How to Learn Python for Data Science, The Self-Starter Way (https://elitedatascience.com/learn-python-for-data-science) \n",
    "\n",
    "4. Flowcharts (QA/QC Perspective) [https://asq.org/quality-resources/flowchart](https://asq.org/quality-resources/flowchart)\n",
    "\n",
    "5. Flowcharts - Wikipedia [https://en.wikipedia.org/wiki/Flowchart](https://en.wikipedia.org/wiki/Flowchart)\n",
    "\n",
    "6. Psuedocode - Wikipedia [https://en.wikipedia.org/wiki/Pseudocode](https://en.wikipedia.org/wiki/Pseudocode)"
   ]
  },
  {
   "cell_type": "code",
   "execution_count": null,
   "metadata": {},
   "outputs": [],
   "source": []
  }
 ],
 "metadata": {
  "kernelspec": {
   "display_name": "Python 3",
   "language": "python",
   "name": "python3"
  },
  "language_info": {
   "codemirror_mode": {
    "name": "ipython",
    "version": 3
   },
   "file_extension": ".py",
   "mimetype": "text/x-python",
   "name": "python",
   "nbconvert_exporter": "python",
   "pygments_lexer": "ipython3",
   "version": "3.8.10"
  }
 },
 "nbformat": 4,
 "nbformat_minor": 4
}
