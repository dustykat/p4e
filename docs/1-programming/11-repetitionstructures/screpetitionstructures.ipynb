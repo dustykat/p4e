{
 "cells": [
  {
   "cell_type": "markdown",
   "metadata": {},
   "source": [
    "# Sentinel-controlled repetition.\n",
    "\n",
    "When loop control is based on the value of what we are processing, sentinel-controlled repetition is used. \n",
    "Sentinel-controlled repetition is also called indefinite repetition because it is not known in advance how many times the loop will be executed. \n",
    "It is a repetition procedure for solving a problem by using a sentinel value (also called a signal value, a dummy value or a flag value) to indicate \"end of process\". \n",
    "The sentinel value itself need not be a part of the processed data.\n",
    "\n",
    "One common example of using sentinel-controlled repetition is when we are processing data from a file and we do not know in advance when we would reach the end of the file. \n",
    "\n",
    "We can use both `for` and `while` loops, for __Sentinel__ controlled repetition, but the `while` loop is more common.\n",
    "\n",
    "### Structured `WHILE` loop\n",
    "The `while` loop repeats a block of instructions inside the loop while a condition remainsvtrue.\n",
    "\n",
    "First a generic syntax\n",
    "\n",
    "    while condition is true:\n",
    "        execute a\n",
    "        execute b\n",
    "    ....\n",
    "\n",
    "Notice our friends the colon `:` and the indentation again."
   ]
  },
  {
   "cell_type": "markdown",
   "metadata": {},
   "source": [
    "# Example `while` loops"
   ]
  },
  {
   "cell_type": "code",
   "execution_count": 12,
   "metadata": {},
   "outputs": [
    {
     "name": "stdin",
     "output_type": "stream",
     "text": [
      "Enter N 9\n"
     ]
    },
    {
     "name": "stdout",
     "output_type": "stream",
     "text": [
      "Sum from 1 to  9 is 45.000\n"
     ]
    }
   ],
   "source": [
    "# sum numbers from 1 to n\n",
    "howmany = int(input('Enter N'))\n",
    "accumulator = 0.0\n",
    "counter = 1\n",
    "while counter <= howmany:\n",
    "    accumulator = accumulator + float(counter)\n",
    "    counter += 1\n",
    "print( 'Sum from 1 to ',howmany, 'is %.3f' % accumulator  )"
   ]
  },
  {
   "cell_type": "code",
   "execution_count": 13,
   "metadata": {},
   "outputs": [
    {
     "name": "stdin",
     "output_type": "stream",
     "text": [
      "Enter N 9\n"
     ]
    },
    {
     "name": "stdout",
     "output_type": "stream",
     "text": [
      "Sum of Evens 1 to  9 is 20.000\n"
     ]
    }
   ],
   "source": [
    "# sum even numbers from 1 to n\n",
    "howmany = int(input('Enter N'))\n",
    "accumulator = 0.0\n",
    "counter = 1\n",
    "while counter <= howmany:\n",
    "    if counter%2 == 0:\n",
    "        accumulator = accumulator + float(counter)\n",
    "    counter += 1\n",
    "print( 'Sum of Evens 1 to ',howmany, 'is %.3f' % accumulator  )"
   ]
  },
  {
   "cell_type": "code",
   "execution_count": 14,
   "metadata": {},
   "outputs": [
    {
     "name": "stdin",
     "output_type": "stream",
     "text": [
      "Enter N 9\n"
     ]
    },
    {
     "name": "stdout",
     "output_type": "stream",
     "text": [
      "*\n",
      "**\n",
      "***\n",
      "****\n",
      "*****\n",
      "******\n",
      "*******\n",
      "********\n",
      "*********\n"
     ]
    }
   ],
   "source": [
    "howmany = int(input('Enter N'))\n",
    "linetoprint=''\n",
    "counter = 1\n",
    "while counter <= howmany:\n",
    "    linetoprint=linetoprint + '*'\n",
    "    counter += 1\n",
    "    print(linetoprint)"
   ]
  },
  {
   "cell_type": "markdown",
   "metadata": {},
   "source": [
    "## Nested Repetition\n",
    "\n",
    "Nested repetition is when a control structure is placed inside of the body or main part of another control structure."
   ]
  },
  {
   "cell_type": "markdown",
   "metadata": {},
   "source": [
    "#### `break` to exit out of a loop\n",
    "\n",
    "Sometimes you may want to exit the loop when a certain condition different from the counting\n",
    "condition is met. Perhaps you are looping through a list and want to exit when you find the\n",
    "first element in the list that matches some criterion. The break keyword is useful for such\n",
    "an operation.\n",
    "\n",
    "For example run the following program:"
   ]
  },
  {
   "cell_type": "code",
   "execution_count": 6,
   "metadata": {},
   "outputs": [
    {
     "name": "stdout",
     "output_type": "stream",
     "text": [
      "i =  0 j =  2\n",
      "i =  1 j =  4\n",
      "i =  2 j =  6\n"
     ]
    }
   ],
   "source": [
    "#\n",
    "i = 0\n",
    "j = 0\n",
    "while i < 9:\n",
    "    j += 2\n",
    "    print (\"i = \",i,\"j = \",j)\n",
    "    if j == 6:\n",
    "        break   \n",
    "    i = i + 1"
   ]
  },
  {
   "cell_type": "code",
   "execution_count": 7,
   "metadata": {},
   "outputs": [
    {
     "name": "stdout",
     "output_type": "stream",
     "text": [
      "i =  0 j =  2\n",
      "i =  1 j =  4\n",
      "i =  2 j =  6\n",
      "i =  3 j =  8\n",
      "i =  4 j =  10\n"
     ]
    }
   ],
   "source": [
    "i = 0\n",
    "j = 0\n",
    "while i <5 :\n",
    "    j += 2\n",
    "    print( \"i = \",i,\"j = \",j)\n",
    "    if j == 7:\n",
    "        break\n",
    "    i = i + 1"
   ]
  },
  {
   "cell_type": "markdown",
   "metadata": {},
   "source": [
    "In the first case, the `while` loop only executes 3 times before the condition j == 6 is TRUE and the loop is exited. \n",
    "In the second case, j == 7 never happens so the loop completes all its anticipated traverses.\n",
    "\n",
    "In both cases an `if` statement was used within a for loop. Such \"mixed\" control structures\n",
    "are quite common (and pretty necessary). \n",
    "A `while` loop contained within a `for` loop, with several `if` statements would be very common and such a structure is called __nested control.__\n",
    "There is typically an upper limit to nesting but the limit is pretty large - easily in the\n",
    "hundreds. It depends on the language and the system architecture ; suffice to say it is not\n",
    "a practical limit except possibly for general-domain AI applications.\n",
    "<hr>"
   ]
  },
  {
   "cell_type": "markdown",
   "metadata": {},
   "source": [
    "We can also do mundane activities and leverage loops, arithmetic, and format codes to make useful tables like\n"
   ]
  },
  {
   "cell_type": "code",
   "execution_count": 1,
   "metadata": {},
   "outputs": [
    {
     "name": "stdout",
     "output_type": "stream",
     "text": [
      "     Cosines     \n",
      "   x    |  cos(x) \n",
      "--------|--------\n",
      "0.000   |  1.0000 \n",
      "0.100   |  0.9950 \n",
      "0.200   |  0.9801 \n",
      "0.300   |  0.9553 \n",
      "0.400   |  0.9211 \n",
      "0.500   |  0.8776 \n",
      "0.600   |  0.8253 \n",
      "0.700   |  0.7648 \n",
      "0.800   |  0.6967 \n",
      "0.900   |  0.6216 \n",
      "1.000   |  0.5403 \n",
      "1.100   |  0.4536 \n",
      "1.200   |  0.3624 \n",
      "1.300   |  0.2675 \n",
      "1.400   |  0.1700 \n",
      "1.500   |  0.0707 \n",
      "1.600   |  -0.0292 \n",
      "1.700   |  -0.1288 \n",
      "1.800   |  -0.2272 \n",
      "1.900   |  -0.3233 \n",
      "2.000   |  -0.4161 \n",
      "2.100   |  -0.5048 \n",
      "2.200   |  -0.5885 \n",
      "2.300   |  -0.6663 \n",
      "2.400   |  -0.7374 \n",
      "2.500   |  -0.8011 \n",
      "2.600   |  -0.8569 \n",
      "2.700   |  -0.9041 \n",
      "2.800   |  -0.9422 \n",
      "2.900   |  -0.9710 \n",
      "3.000   |  -0.9900 \n",
      "3.100   |  -0.9991 \n",
      "3.200   |  -0.9983 \n",
      "3.300   |  -0.9875 \n",
      "3.400   |  -0.9668 \n",
      "3.500   |  -0.9365 \n",
      "3.600   |  -0.8968 \n",
      "3.700   |  -0.8481 \n",
      "3.800   |  -0.7910 \n",
      "3.900   |  -0.7259 \n",
      "4.000   |  -0.6536 \n",
      "4.100   |  -0.5748 \n",
      "4.200   |  -0.4903 \n",
      "4.300   |  -0.4008 \n",
      "4.400   |  -0.3073 \n",
      "4.500   |  -0.2108 \n",
      "4.600   |  -0.1122 \n",
      "4.700   |  -0.0124 \n",
      "4.800   |  0.0875 \n",
      "4.900   |  0.1865 \n",
      "5.000   |  0.2837 \n",
      "5.100   |  0.3780 \n",
      "5.200   |  0.4685 \n",
      "5.300   |  0.5544 \n",
      "5.400   |  0.6347 \n",
      "5.500   |  0.7087 \n",
      "5.600   |  0.7756 \n",
      "5.700   |  0.8347 \n",
      "5.800   |  0.8855 \n",
      "5.900   |  0.9275 \n",
      "6.000   |  0.9602 \n",
      "6.100   |  0.9833 \n",
      "6.200   |  0.9965 \n",
      "6.300   |  0.9999 \n",
      "6.400   |  0.9932 \n",
      "6.500   |  0.9766 \n",
      "6.600   |  0.9502 \n",
      "6.700   |  0.9144 \n",
      "6.800   |  0.8694 \n",
      "6.900   |  0.8157 \n",
      "7.000   |  0.7539 \n",
      "7.100   |  0.6845 \n",
      "7.200   |  0.6084 \n",
      "7.300   |  0.5261 \n",
      "7.400   |  0.4385 \n",
      "7.500   |  0.3466 \n",
      "7.600   |  0.2513 \n",
      "7.700   |  0.1534 \n",
      "7.800   |  0.0540 \n",
      "7.900   |  -0.0460 \n",
      "8.000   |  -0.1455 \n",
      "8.100   |  -0.2435 \n",
      "8.200   |  -0.3392 \n",
      "8.300   |  -0.4314 \n",
      "8.400   |  -0.5193 \n",
      "8.500   |  -0.6020 \n",
      "8.600   |  -0.6787 \n",
      "8.700   |  -0.7486 \n",
      "8.800   |  -0.8111 \n",
      "8.900   |  -0.8654 \n",
      "9.000   |  -0.9111 \n",
      "9.100   |  -0.9477 \n",
      "9.200   |  -0.9748 \n",
      "9.300   |  -0.9922 \n",
      "9.400   |  -0.9997 \n",
      "9.500   |  -0.9972 \n",
      "9.600   |  -0.9847 \n",
      "9.700   |  -0.9624 \n",
      "9.800   |  -0.9304 \n",
      "9.900   |  -0.8892 \n",
      "10.000   |  -0.8391 \n",
      "10.100   |  -0.7806 \n",
      "10.200   |  -0.7143 \n",
      "10.300   |  -0.6408 \n",
      "10.400   |  -0.5610 \n",
      "10.500   |  -0.4755 \n",
      "10.600   |  -0.3853 \n",
      "10.700   |  -0.2913 \n",
      "10.800   |  -0.1943 \n",
      "10.900   |  -0.0954 \n",
      "11.000   |  0.0044 \n",
      "11.100   |  0.1042 \n",
      "11.200   |  0.2030 \n",
      "11.300   |  0.2997 \n",
      "11.400   |  0.3935 \n",
      "11.500   |  0.4833 \n",
      "11.600   |  0.5683 \n",
      "11.700   |  0.6476 \n",
      "11.800   |  0.7204 \n",
      "11.900   |  0.7861 \n",
      "12.000   |  0.8439 \n",
      "12.100   |  0.8932 \n",
      "12.200   |  0.9336 \n",
      "12.300   |  0.9647 \n",
      "12.400   |  0.9862 \n",
      "12.500   |  0.9978 \n",
      "12.600   |  0.9994 \n",
      "12.700   |  0.9911 \n",
      "12.800   |  0.9728 \n",
      "12.900   |  0.9449 \n",
      "13.000   |  0.9074 \n",
      "13.100   |  0.8610 \n",
      "13.200   |  0.8059 \n",
      "13.300   |  0.7427 \n",
      "13.400   |  0.6722 \n",
      "13.500   |  0.5949 \n",
      "13.600   |  0.5117 \n",
      "13.700   |  0.4234 \n",
      "13.800   |  0.3308 \n",
      "13.900   |  0.2349 \n",
      "14.000   |  0.1367 \n",
      "14.100   |  0.0372 \n",
      "14.200   |  -0.0628 \n",
      "14.300   |  -0.1621 \n",
      "14.400   |  -0.2598 \n",
      "14.500   |  -0.3549 \n",
      "14.600   |  -0.4465 \n",
      "14.700   |  -0.5336 \n",
      "14.800   |  -0.6154 \n",
      "14.900   |  -0.6910 \n",
      "15.000   |  -0.7597 \n",
      "15.100   |  -0.8208 \n",
      "15.200   |  -0.8737 \n",
      "15.300   |  -0.9179 \n",
      "15.400   |  -0.9530 \n",
      "15.500   |  -0.9785 \n",
      "15.600   |  -0.9942 \n"
     ]
    }
   ],
   "source": [
    "import math # package that contains cosine\n",
    "print(\"     Cosines     \")\n",
    "print(\"   x   \",\"|\",\" cos(x) \")\n",
    "print(\"--------|--------\")\n",
    "i = 0\n",
    "while i < 157:\n",
    "    x = float(i)*0.1\n",
    "    print(\"%.3f\" % x, \"  |\", \" %.4f \"  % math.cos(x)) # note the format code and the placeholder % and syntax \n",
    "    i = i + 1"
   ]
  },
  {
   "cell_type": "markdown",
   "metadata": {},
   "source": [
    "#### The `continue` statement\n",
    "The continue instruction skips the block of code after it is executed for that iteration. \n",
    "It is\n",
    "best illustrated by an example."
   ]
  },
  {
   "cell_type": "code",
   "execution_count": 3,
   "metadata": {},
   "outputs": [
    {
     "name": "stdout",
     "output_type": "stream",
     "text": [
      "\n",
      " i =  0 , j =  2\n",
      " this message will be skipped over if j = 6 \n",
      "\n",
      " i =  1 , j =  4\n",
      " this message will be skipped over if j = 6 \n",
      "\n",
      " i =  2 , j =  6\n",
      "\n",
      " i =  2 , j =  8\n",
      " this message will be skipped over if j = 6 \n",
      "\n",
      " i =  3 , j =  10\n",
      " this message will be skipped over if j = 6 \n",
      "\n",
      " i =  4 , j =  12\n",
      " this message will be skipped over if j = 6 \n"
     ]
    }
   ],
   "source": [
    "i = 0\n",
    "j = 0\n",
    "while i < 5:\n",
    "    j += 2\n",
    "    print (\"\\n i = \", i , \", j = \", j) #here the \\n is a newline command\n",
    "    if j == 6:\n",
    "        continue\n",
    "    print(\" this message will be skipped over if j = 6 \") # still within the loop, so the skip is implemented\n",
    "    i = i + 1"
   ]
  },
  {
   "cell_type": "markdown",
   "metadata": {},
   "source": [
    "#### The `try`, `except` structure\n",
    "\n",
    "An important control structure (and a pretty cool one for error trapping) is the `try`, `except`\n",
    "statement.\n",
    "\n",
    "The statement controls how the program proceeds when an error occurs in an instruction.\n",
    "The structure is really useful to trap likely errors (divide by zero, wrong kind of input) \n",
    "yet let the program keep running or at least issue a meaningful message to the user.\n",
    "\n",
    "The syntax is:\n",
    "\n",
    "    try:\n",
    "    do something\n",
    "    except:\n",
    "    do something else if ``do something'' returns an error\n",
    "\n",
    "Here is a really simple, but hugely important example:"
   ]
  },
  {
   "cell_type": "code",
   "execution_count": 4,
   "metadata": {},
   "outputs": [
    {
     "name": "stdout",
     "output_type": "stream",
     "text": [
      "x =  12.0 y =  12.0 x/y =  1.0\n",
      "x =  12.0 y =  11.0 x/y =  1.0909090909090908\n",
      "x =  12.0 y =  10.0 x/y =  1.2\n",
      "x =  12.0 y =  9.0 x/y =  1.3333333333333333\n",
      "x =  12.0 y =  8.0 x/y =  1.5\n",
      "x =  12.0 y =  7.0 x/y =  1.7142857142857142\n",
      "x =  12.0 y =  6.0 x/y =  2.0\n",
      "x =  12.0 y =  5.0 x/y =  2.4\n",
      "x =  12.0 y =  4.0 x/y =  3.0\n",
      "x =  12.0 y =  3.0 x/y =  4.0\n",
      "x =  12.0 y =  2.0 x/y =  6.0\n",
      "x =  12.0 y =  1.0 x/y =  12.0\n",
      "error divide by zero\n",
      "x =  12.0 y =  -1.0 x/y =  -12.0\n",
      "x =  12.0 y =  -2.0 x/y =  -6.0\n",
      "x =  12.0 y =  -3.0 x/y =  -4.0\n",
      "x =  12.0 y =  -4.0 x/y =  -3.0\n",
      "x =  12.0 y =  -5.0 x/y =  -2.4\n",
      "x =  12.0 y =  -6.0 x/y =  -2.0\n",
      "x =  12.0 y =  -7.0 x/y =  -1.7142857142857142\n",
      "x =  12.0 y =  -8.0 x/y =  -1.5\n",
      "x =  12.0 y =  -9.0 x/y =  -1.3333333333333333\n",
      "x =  12.0 y =  -10.0 x/y =  -1.2\n",
      "x =  12.0 y =  -11.0 x/y =  -1.0909090909090908\n",
      "x =  12.0 y =  -12.0 x/y =  -1.0\n"
     ]
    }
   ],
   "source": [
    "#MyErrorTrap.py\n",
    "x = 12.\n",
    "y = 12.\n",
    "while y >= -12.: # sentinel controlled repetition\n",
    "    try:         \n",
    "        print (\"x = \", x, \"y = \", y, \"x/y = \", x/y)\n",
    "    except:\n",
    "        print (\"error divide by zero\")\n",
    "    y -= 1"
   ]
  },
  {
   "cell_type": "markdown",
   "metadata": {},
   "source": [
    "So this silly code starts with x fixed at a value of 12, and y starting at 12 and decreasing by\n",
    "1 until y equals -1. The code returns the ratio of x to y and at one point y is equal to zero\n",
    "and the division would be undefined. By trapping the error the code can issue us a measure\n",
    "and keep running.\n",
    "\n",
    "Modify the script as shown below,Run, and see what happens"
   ]
  },
  {
   "cell_type": "code",
   "execution_count": 5,
   "metadata": {},
   "outputs": [
    {
     "name": "stdout",
     "output_type": "stream",
     "text": [
      "x =  12.0 y =  12.0 x/y =  1.0\n",
      "x =  12.0 y =  11.0 x/y =  1.0909090909090908\n",
      "x =  12.0 y =  10.0 x/y =  1.2\n",
      "x =  12.0 y =  9.0 x/y =  1.3333333333333333\n",
      "x =  12.0 y =  8.0 x/y =  1.5\n",
      "x =  12.0 y =  7.0 x/y =  1.7142857142857142\n",
      "x =  12.0 y =  6.0 x/y =  2.0\n",
      "x =  12.0 y =  5.0 x/y =  2.4\n",
      "x =  12.0 y =  4.0 x/y =  3.0\n",
      "x =  12.0 y =  3.0 x/y =  4.0\n",
      "x =  12.0 y =  2.0 x/y =  6.0\n",
      "x =  12.0 y =  1.0 x/y =  12.0\n"
     ]
    },
    {
     "ename": "ZeroDivisionError",
     "evalue": "float division by zero",
     "output_type": "error",
     "traceback": [
      "\u001b[0;31m---------------------------------------------------------------------------\u001b[0m",
      "\u001b[0;31mZeroDivisionError\u001b[0m                         Traceback (most recent call last)",
      "\u001b[0;32m<ipython-input-5-82eeaceb9a12>\u001b[0m in \u001b[0;36m<module>\u001b[0;34m\u001b[0m\n\u001b[1;32m      3\u001b[0m \u001b[0my\u001b[0m \u001b[0;34m=\u001b[0m \u001b[0;36m12.\u001b[0m\u001b[0;34m\u001b[0m\u001b[0;34m\u001b[0m\u001b[0m\n\u001b[1;32m      4\u001b[0m \u001b[0;32mwhile\u001b[0m \u001b[0my\u001b[0m \u001b[0;34m>=\u001b[0m \u001b[0;34m-\u001b[0m\u001b[0;36m12.\u001b[0m\u001b[0;34m:\u001b[0m \u001b[0;31m# sentinel controlled repetition\u001b[0m\u001b[0;34m\u001b[0m\u001b[0;34m\u001b[0m\u001b[0m\n\u001b[0;32m----> 5\u001b[0;31m     \u001b[0mprint\u001b[0m \u001b[0;34m(\u001b[0m\u001b[0;34m\"x = \"\u001b[0m\u001b[0;34m,\u001b[0m \u001b[0mx\u001b[0m\u001b[0;34m,\u001b[0m \u001b[0;34m\"y = \"\u001b[0m\u001b[0;34m,\u001b[0m \u001b[0my\u001b[0m\u001b[0;34m,\u001b[0m \u001b[0;34m\"x/y = \"\u001b[0m\u001b[0;34m,\u001b[0m \u001b[0mx\u001b[0m\u001b[0;34m/\u001b[0m\u001b[0my\u001b[0m\u001b[0;34m)\u001b[0m\u001b[0;34m\u001b[0m\u001b[0;34m\u001b[0m\u001b[0m\n\u001b[0m\u001b[1;32m      6\u001b[0m     \u001b[0my\u001b[0m \u001b[0;34m-=\u001b[0m \u001b[0;36m1\u001b[0m\u001b[0;34m\u001b[0m\u001b[0;34m\u001b[0m\u001b[0m\n",
      "\u001b[0;31mZeroDivisionError\u001b[0m: float division by zero"
     ]
    }
   ],
   "source": [
    "#NoErrorTrap.py\n",
    "x = 12.\n",
    "y = 12.\n",
    "while y >= -12.: # sentinel controlled repetition\n",
    "    print (\"x = \", x, \"y = \", y, \"x/y = \", x/y)\n",
    "    y -= 1"
   ]
  },
  {
   "cell_type": "markdown",
   "metadata": {},
   "source": [
    "## Readings\n",
    "\n",
    "1. Learn Python in One Day and Learn It Well. Python for Beginners with Hands-on Project. (Learn Coding Fast with Hands-On Project Book -- Kindle Edition by LCF Publishing (Author), Jamie Chan [https://www.amazon.com/Python-2nd-Beginners-Hands-Project-ebook/dp/B071Z2Q6TQ/ref=sr_1_3?dchild=1&keywords=learn+python+in+a+day&qid=1611108340&sr=8-3](https://www.amazon.com/Python-2nd-Beginners-Hands-Project-ebook/dp/B071Z2Q6TQ/ref=sr_1_3?dchild=1&keywords=learn+python+in+a+day&qid=1611108340&sr=8-3)\n",
    "\n",
    "2. Learn Python the Hard Way (Online Book) (https://learnpythonthehardway.org/book/)  Recommended for beginners who want a complete course in programming with Python.\n",
    "\n",
    "3. How to Learn Python for Data Science, The Self-Starter Way (https://elitedatascience.com/learn-python-for-data-science) \n",
    "\n",
    "4. Flowcharts (QA/QC Perspective) [https://asq.org/quality-resources/flowchart](https://asq.org/quality-resources/flowchart)\n",
    "\n",
    "5. Flowcharts - Wikipedia [https://en.wikipedia.org/wiki/Flowchart](https://en.wikipedia.org/wiki/Flowchart)\n",
    "\n",
    "6. Psuedocode - Wikipedia [https://en.wikipedia.org/wiki/Pseudocode](https://en.wikipedia.org/wiki/Pseudocode)"
   ]
  },
  {
   "cell_type": "code",
   "execution_count": null,
   "metadata": {},
   "outputs": [],
   "source": []
  }
 ],
 "metadata": {
  "kernelspec": {
   "display_name": "Python 3",
   "language": "python",
   "name": "python3"
  },
  "language_info": {
   "codemirror_mode": {
    "name": "ipython",
    "version": 3
   },
   "file_extension": ".py",
   "mimetype": "text/x-python",
   "name": "python",
   "nbconvert_exporter": "python",
   "pygments_lexer": "ipython3",
   "version": "3.8.10"
  }
 },
 "nbformat": 4,
 "nbformat_minor": 4
}
