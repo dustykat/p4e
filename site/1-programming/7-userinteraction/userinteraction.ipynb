{
 "cells": [
  {
   "cell_type": "markdown",
   "metadata": {},
   "source": [
    "# User Interaction\n",
    "\n",
    "Until this point we have explicitly specified input values for variables (and constants) in a script; now lets leverage intrinsic functions that lets us makes use of variables. We’ll revisit earlier examples, but this time we’ll make them interactive. Instead of just computing and sending output, we want read into variables values that may change from time to time. In order to do that, our script needs to be able to prompt us for information and display them on the screen.\n",
    "\n",
    "This whole process is the essence of user interaction, and from the simple examples herein, one builds more complex scripts."
   ]
  },
  {
   "cell_type": "markdown",
   "metadata": {},
   "source": [
    "## The `input()` method\n",
    "\n",
    "Consider and run the script below"
   ]
  },
  {
   "cell_type": "code",
   "execution_count": 28,
   "metadata": {},
   "outputs": [
    {
     "name": "stdin",
     "output_type": "stream",
     "text": [
      "What is your name ? Jimmy Johns\n"
     ]
    },
    {
     "name": "stdout",
     "output_type": "stream",
     "text": [
      "Jimmy Johns\n"
     ]
    }
   ],
   "source": [
    "MyName=input('What is your name ?')\n",
    "print(MyName)"
   ]
  },
  {
   "cell_type": "markdown",
   "metadata": {},
   "source": [
    "The `input` method sent the string 'What is your name ?' to the screen, and then waited for the user to reply.  Upon reply, the input supplied was captured and then placed into the variable named `MyName`. \n",
    "\n",
    "Then the next statement, used the `print()` method to print the contents of `MyName` back to the screen.  From this simple structure we can create quite useful input and output. \n",
    "\n",
    "As a matter of good practice, we should explicitly type the input variable, as shown below which takes the input stream and converts it into a string."
   ]
  },
  {
   "cell_type": "code",
   "execution_count": 44,
   "metadata": {},
   "outputs": [
    {
     "name": "stdin",
     "output_type": "stream",
     "text": [
      "What is your name ? Taco Bell\n"
     ]
    },
    {
     "name": "stdout",
     "output_type": "stream",
     "text": [
      "Taco Bell\n"
     ]
    }
   ],
   "source": [
    "MyName=str(input('What is your name ?'))\n",
    "print(MyName)"
   ]
  },
  {
   "cell_type": "markdown",
   "metadata": {},
   "source": [
    "Below we prompt for a second input, in this case the user's age, which will be put into an integer.  As a sdie note, we are not error checking, so if an input stream that cannot be made into an integer is suppplied we will get an exception warning or an error message."
   ]
  },
  {
   "cell_type": "code",
   "execution_count": 45,
   "metadata": {},
   "outputs": [
    {
     "name": "stdin",
     "output_type": "stream",
     "text": [
      "How old are you ?  66\n"
     ]
    },
    {
     "name": "stdout",
     "output_type": "stream",
     "text": [
      "66\n"
     ]
    }
   ],
   "source": [
    "MyAge=int(input('How old are you ? '))\n",
    "print(MyAge)"
   ]
  },
  {
   "cell_type": "markdown",
   "metadata": {},
   "source": [
    "## The `print()` method\n",
    "\n",
    "The `print()` function is used to display information to users. \n",
    "It accepts zero or more expressions as parameters, separated by commas. \n",
    "\n",
    "Consider the statement below, how many parameters are in the parameter list?"
   ]
  },
  {
   "cell_type": "code",
   "execution_count": 46,
   "metadata": {},
   "outputs": [
    {
     "name": "stdout",
     "output_type": "stream",
     "text": [
      "Hello World, my name is Taco Bell and I am 66 years old.\n"
     ]
    }
   ],
   "source": [
    "print (\"Hello World, my name is\", MyName, \"and I am\", MyAge, \"years old.\")"
   ]
  },
  {
   "cell_type": "markdown",
   "metadata": {},
   "source": [
    "There are five parameters;\n",
    "\n",
    "1. \"Hello World, my name is\"\n",
    "2. MyName\n",
    "3. \"and I am\"\n",
    "4. MyAge\n",
    "5. \"years old\"\n",
    "\n",
    "Three of the parameters are string literals and are enclosed in quote marks, two are variables that are rendered as strings."
   ]
  },
  {
   "cell_type": "markdown",
   "metadata": {},
   "source": [
    "## The `%` operator\n",
    "Strings can be formatted using the `%` operator. This gives you greater control over how you want your string to be displayed and stored. The syntax for using the `%` operator is “string to be formatted” %(values or variables to be inserted into string, separated by commas)\n",
    "\n",
    "An example using the string constructor (`%`) form using a placeholder in the print function call is:"
   ]
  },
  {
   "cell_type": "code",
   "execution_count": 50,
   "metadata": {},
   "outputs": [
    {
     "name": "stdout",
     "output_type": "stream",
     "text": [
      "Hello World, my name is Taco Bell and I am 66 years old.\n"
     ]
    }
   ],
   "source": [
    "print (\"Hello World, my name is %s and I am %s years old.\" %(MyName,MyAge))"
   ]
  },
  {
   "cell_type": "markdown",
   "metadata": {},
   "source": [
    "Notice the syntax above.  The contents of the two variables are placed in the locations within the string indicated by the `%s` symbol, the tuple (MyName,MyAge) is parsed using this placeholder and converted into a string by the trailing `s` in the `%s` indicator.\n",
    "\n",
    "See what happens if we change the second `%s` into `%f` and run the script:"
   ]
  },
  {
   "cell_type": "code",
   "execution_count": 49,
   "metadata": {},
   "outputs": [
    {
     "name": "stdout",
     "output_type": "stream",
     "text": [
      "Hello World, my name is Taco Bell and I am 66.000000 years old.\n"
     ]
    }
   ],
   "source": [
    "print (\"Hello World, my name is %s and I am %f years old.\" %(MyName,MyAge))"
   ]
  },
  {
   "cell_type": "markdown",
   "metadata": {},
   "source": [
    "The change to `%f` turns the rendered tuple value into a float.  Using these structures gives us a lot of output flexibility.\n",
    "\n",
    "## The `format()` method\n",
    "\n",
    "Similar to the `%`operator structure there is a `format()` method.  Using the same example, the `%s` symbol is replaced by a pair of curly brackets `{}` playing the same placeholder role, and the `format` keyword precedes the tuple as"
   ]
  },
  {
   "cell_type": "code",
   "execution_count": 51,
   "metadata": {},
   "outputs": [
    {
     "name": "stdout",
     "output_type": "stream",
     "text": [
      "Hello World, my name is Taco Bell and I am 66 years old.\n"
     ]
    }
   ],
   "source": [
    "print (\"Hello World, my name is {} and I am {} years old.\".format(MyName,MyAge))"
   ]
  },
  {
   "cell_type": "markdown",
   "metadata": {},
   "source": [
    "Observe the keyword `format` is joined to the string with a dot notation, because `format` is a formal method associated with all strings, and it attached when the string literal is created.\n",
    "\n",
    "In this example the arguments to the method are the two variables, but other arguments and decorators are possible allowing for elaborate outputs.\n",
    "\n",
    "## Triple quotes\n",
    "\n",
    "If you need to display a long message, you can use the triple-quote symbol (‘’’ or “””) to span the  message over multiple lines. For instance:"
   ]
  },
  {
   "cell_type": "code",
   "execution_count": 54,
   "metadata": {},
   "outputs": [
    {
     "name": "stdout",
     "output_type": "stream",
     "text": [
      "Hello World, my name is Taco Bell and I am a resturant\n",
      "that is over 66 years old. We serve sodium chloride infused \n",
      "lipids in a variety of shapes\n"
     ]
    }
   ],
   "source": [
    "print ('''Hello World, my name is {} and I am a resturant\n",
    "that is over {} years old. We serve sodium chloride infused \n",
    "lipids in a variety of shapes'''.format(MyName,MyAge))"
   ]
  },
  {
   "cell_type": "markdown",
   "metadata": {},
   "source": [
    "Creating an array that contains signed integer numbers"
   ]
  },
  {
   "cell_type": "markdown",
   "metadata": {},
   "source": [
    "## Escape Characters\n",
    "\n",
    "Sometimes we may need to print some special “unprintable” characters such as a tab or a newline. \n",
    "In this case, you need to use the `\\` (backslash) character to escape characters that otherwise have a different meaning.  For instance to print a tab, we type the backslash character before the letter t, like this `\\t` using our same example we have:"
   ]
  },
  {
   "cell_type": "code",
   "execution_count": 56,
   "metadata": {},
   "outputs": [
    {
     "name": "stdout",
     "output_type": "stream",
     "text": [
      "Hello\t World, my name is Taco Bell and I am 66 years old.\n"
     ]
    }
   ],
   "source": [
    "print (\"Hello\\t World, my name is {} and I am {} years old.\".format(MyName,MyAge))"
   ]
  },
  {
   "cell_type": "markdown",
   "metadata": {},
   "source": [
    "Here are a few more examples:"
   ]
  },
  {
   "cell_type": "code",
   "execution_count": 57,
   "metadata": {},
   "outputs": [
    {
     "name": "stdout",
     "output_type": "stream",
     "text": [
      "Hello World\n",
      ", my name is Taco Bell and I am 66 years old.\n"
     ]
    }
   ],
   "source": [
    "#newline after World\n",
    "print (\"Hello World\\n, my name is {} and I am {} years old.\".format(MyName,MyAge)) "
   ]
  },
  {
   "cell_type": "code",
   "execution_count": 58,
   "metadata": {},
   "outputs": [
    {
     "name": "stdout",
     "output_type": "stream",
     "text": [
      "Hello World\\, my name is Taco Bell and I am 66 years old.\n"
     ]
    }
   ],
   "source": [
    "# backslash after World\n",
    "print (\"Hello World\\\\, my name is {} and I am {} years old.\".format(MyName,MyAge)) "
   ]
  },
  {
   "cell_type": "code",
   "execution_count": 59,
   "metadata": {},
   "outputs": [
    {
     "name": "stdout",
     "output_type": "stream",
     "text": [
      "I am 5'9\" tall\n"
     ]
    }
   ],
   "source": [
    "# embedded quotes in the string literal\n",
    "print (\"I am 5'9\\\" tall\") "
   ]
  },
  {
   "cell_type": "markdown",
   "metadata": {},
   "source": [
    "If you do not want characters preceded by the `\\` character to be interpreted as special characters, you can use raw strings by adding an `r` before the first quote. \n",
    "For instance, if you do not want `\\t` to be interpreted as a tab in the string literal \"Hello\\tWorld\", you would type "
   ]
  },
  {
   "cell_type": "code",
   "execution_count": 65,
   "metadata": {},
   "outputs": [
    {
     "name": "stdout",
     "output_type": "stream",
     "text": [
      "Hello\\tWorld\n"
     ]
    }
   ],
   "source": [
    "print(r\"Hello\\tWorld\")"
   ]
  },
  {
   "cell_type": "markdown",
   "metadata": {},
   "source": [
    "## Readings\n",
    "\n",
    "1. Learn Python in One Day and Learn It Well. Python for Beginners with Hands-on Project. (Learn Coding Fast with Hands-On Project Book -- Kindle Edition by LCF Publishing (Author), Jamie Chan [https://www.amazon.com/Python-2nd-Beginners-Hands-Project-ebook/dp/B071Z2Q6TQ/ref=sr_1_3?dchild=1&keywords=learn+python+in+a+day&qid=1611108340&sr=8-3](https://www.amazon.com/Python-2nd-Beginners-Hands-Project-ebook/dp/B071Z2Q6TQ/ref=sr_1_3?dchild=1&keywords=learn+python+in+a+day&qid=1611108340&sr=8-3)\n",
    "\n",
    "2. Learn Python the Hard Way (Online Book) (https://learnpythonthehardway.org/book/)  Recommended for beginners who want a complete course in programming with Python.\n",
    "\n",
    "3. How to Learn Python for Data Science, The Self-Starter Way (https://elitedatascience.com/learn-python-for-data-science) \n",
    "\n",
    "4. String Literals [https://bic-berkeley.github.io/psych-214-fall-2016/string_literals.html](https://bic-berkeley.github.io/psych-214-fall-2016/string_literals.html)\n",
    "\n",
    "5. Tutorial on `input()` and `print()` functions [https://www.programiz.com/python-programming/input-output-import](https://www.programiz.com/python-programming/input-output-import)"
   ]
  },
  {
   "cell_type": "code",
   "execution_count": null,
   "metadata": {},
   "outputs": [],
   "source": []
  }
 ],
 "metadata": {
  "kernelspec": {
   "display_name": "Python 3",
   "language": "python",
   "name": "python3"
  },
  "language_info": {
   "codemirror_mode": {
    "name": "ipython",
    "version": 3
   },
   "file_extension": ".py",
   "mimetype": "text/x-python",
   "name": "python",
   "nbconvert_exporter": "python",
   "pygments_lexer": "ipython3",
   "version": "3.8.10"
  }
 },
 "nbformat": 4,
 "nbformat_minor": 4
}
