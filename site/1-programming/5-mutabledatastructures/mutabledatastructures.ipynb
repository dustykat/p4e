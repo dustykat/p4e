{
 "cells": [
  {
   "cell_type": "markdown",
   "metadata": {},
   "source": [
    "# Mutable Data Structures\n",
    "\n",
    "## What is a data structure?\n",
    "\n",
    "Data Structures are a specialized means of organizing and storing data in computers in such a way that we can perform operations on the stored data more effectively, and maintain the program easier.\n",
    "\n",
    "In our iPython world the most common structures are illustrated in the figure below; here we are interested primarily in lists and dictionaries; the array structure is a special type of list that is explored later on, and the set is a special type of dictionary. Tuples are immutable, so are also left for later.\n",
    "\n",
    "![](data-structures.png)\n",
    "\n",
    "## What is mutable?\n",
    "\n",
    "A definition from https://www.dictionary.com/browse/mutable is\n",
    "\n",
    "mutable [ myoo-tuh-buhl ]\n",
    "\n",
    "See synonyms for: mutable / mutability on [Thesaurus.com](Thesaurus.com)\n",
    "\n",
    "adjective\n",
    "\n",
    "1. liable or subject to change or alteration.\n",
    "2. given to changing; constantly changing; fickle or inconstant: the mutable ways of fortune.\n",
    "3. Computers. (in object-oriented programming) of or noting an object having properties whose values can change while the object itself maintains a unique identity.\n",
    "\n",
    "The last definition is the one we seek, a mutable structure can have changing contents but the structure itself maintains identity.\n",
    "\n",
    "A named constant `7` which we cannot change, is immutable, but a variable like `seven` which can change is in contrast, mutable."
   ]
  },
  {
   "cell_type": "markdown",
   "metadata": {},
   "source": [
    "## Lists\n",
    "\n",
    "A list is a collection of data that are somehow related. It is a convenient way to refer to a\n",
    "collection of similar things by a single name, and using an index (like a subscript in math)\n",
    "to identify a particular item.\n",
    "\n",
    "Consider the \"math-like\" variable $x$ below:\n",
    "\n",
    "\\begin{gather}\n",
    "x_0= 7 \\\\\n",
    "x_1= 11 \\\\\n",
    "x_2= 5 \\\\\n",
    "x_3= 9 \\\\\n",
    "x_4= 13 \\\\\n",
    "x_5= 223 \\\\\n",
    "\\end{gather}\n",
    "    \n",
    "The variable name is $x$ and the subscripts correspond to different values. \n",
    "Thus the `value` of the variable named $x$ associated with subscript $3$ is the number $9$.  \n",
    "In our scripts the concept of subscript is replaced by a position or index, but it performs the same role - it identifies the particular container in the list, and lets us access the contents of the container. \n",
    "\n",
    "The figure below is a visual representation of a the concept that treats a variable as a collection of cells. \n",
    "\n",
    "![](list-schematic.png)\n",
    "\n",
    "In the figure, the variable name is `MyList`, the subscripts are replaced by a position (index) indicator\n",
    "that identifies which cell is being referenced. \n",
    "The value is the cell content at the particular index. \n",
    "\n",
    "So in the figure the value of `MyList` at Position Index = 3 is the number 9.'\n",
    "\n",
    "In engineering and data science we use lists a lot - we often call then vectors, arrays, matrices and such, but they are ultimately just lists.\n",
    "\n",
    "To declare a list you can write the list name and assign it values. \n",
    "The square brackets are used to identify that the variable is a list. \n",
    "Like:"
   ]
  },
  {
   "cell_type": "code",
   "execution_count": 1,
   "metadata": {},
   "outputs": [],
   "source": [
    "%reset -f"
   ]
  },
  {
   "cell_type": "code",
   "execution_count": 2,
   "metadata": {},
   "outputs": [
    {
     "name": "stdout",
     "output_type": "stream",
     "text": [
      "[7, 11, 5, 9, 13, 223]\n"
     ]
    }
   ],
   "source": [
    "MyList = [7,11,5,9,13,223]\n",
    "print(MyList)"
   ]
  },
  {
   "cell_type": "markdown",
   "metadata": {},
   "source": [
    "One can also declare a null list and use the `append()` method to fill it as needed."
   ]
  },
  {
   "cell_type": "code",
   "execution_count": 3,
   "metadata": {},
   "outputs": [
    {
     "name": "stdout",
     "output_type": "stream",
     "text": [
      "[]\n",
      "[1]\n",
      "[1, 2]\n"
     ]
    }
   ],
   "source": [
    "MyOtherList = [ ]\n",
    "print(MyOtherList)\n",
    "MyOtherList.append(1)\n",
    "print(MyOtherList)\n",
    "MyOtherList.append(2)\n",
    "print(MyOtherList)"
   ]
  },
  {
   "cell_type": "markdown",
   "metadata": {},
   "source": [
    "Python indices start at **ZERO**. \n",
    "A lot of other languages start at ONE. \n",
    "It's just the convention. \n",
    "\n",
    "The first element in a list has an index of 0, the second an index of 1, and so on.\n",
    "We access the contents of a list by referring to its name and index. \n",
    "For example "
   ]
  },
  {
   "cell_type": "code",
   "execution_count": 4,
   "metadata": {},
   "outputs": [
    {
     "name": "stdout",
     "output_type": "stream",
     "text": [
      "7\n",
      "9\n"
     ]
    }
   ],
   "source": [
    "print(MyList[0])\n",
    "print(MyList[3])"
   ]
  },
  {
   "cell_type": "markdown",
   "metadata": {},
   "source": [
    "Lists can store elements of different data types\n",
    "\n",
    "- Ordered: Elements in a list can be indexed\n",
    "- Mutable: Elements in a list can be altered\n",
    "- Mathematical\toperations\tmust be applied\tto\teach element\tof\tthe\tlist\t"
   ]
  },
  {
   "cell_type": "markdown",
   "metadata": {},
   "source": [
    "## Dictionary - A special kind of list\n",
    "\n",
    "A dictionary is a special kind of list where the items are related data `PAIRS`. \n",
    "It is a lot like a relational database (it probably is one in fact) where the first item in the pair is called the key, and must be unique in a dictionary, and the second item in the pair is the data.\n",
    "The second item could itself be a list, so a dictionary would be a meaningful way to build a\n",
    "database in Python.\n",
    "\n",
    "To declare a dictionary using `curly` brackets\n",
    "\n",
    "    MyPetsNamesAndMass = { \"Dusty\":7.8 , \"Aspen\":6.3, \"Merrimee\":0.03}\n",
    "\n",
    "To declare a dictionary using the `dict()` method\n",
    "\n",
    "    MyPetsNamesAndMassToo = dict(Dusty = 7.8 , Aspen = 6.3, Merrimee = 0.03)\n",
    "    \n",
    "Dictionary properties\n",
    "\n",
    "- Unordered: Elements in a dictionary are not indexed (address by their key)\n",
    "- Mutable elements: Elements themselves in a dictionary can be altered\n",
    "- Immutable keys: Keys in a dictionary cannot be altered"
   ]
  },
  {
   "cell_type": "markdown",
   "metadata": {},
   "source": [
    "## Readings\n",
    "\n",
    "1. Learn Python in One Day and Learn It Well. Python for Beginners with Hands-on Project. (Learn Coding Fast with Hands-On Project Book -- Kindle Edition by LCF Publishing (Author), Jamie Chan [https://www.amazon.com/Python-2nd-Beginners-Hands-Project-ebook/dp/B071Z2Q6TQ/ref=sr_1_3?dchild=1&keywords=learn+python+in+a+day&qid=1611108340&sr=8-3](https://www.amazon.com/Python-2nd-Beginners-Hands-Project-ebook/dp/B071Z2Q6TQ/ref=sr_1_3?dchild=1&keywords=learn+python+in+a+day&qid=1611108340&sr=8-3)\n",
    "\n",
    "2. Learn Python the Hard Way (Online Book) (https://learnpythonthehardway.org/book/)  Recommended for beginners who want a complete course in programming with Python.\n",
    "\n",
    "3. How to Learn Python for Data Science, The Self-Starter Way (https://elitedatascience.com/learn-python-for-data-science) "
   ]
  },
  {
   "cell_type": "code",
   "execution_count": null,
   "metadata": {},
   "outputs": [],
   "source": []
  }
 ],
 "metadata": {
  "kernelspec": {
   "display_name": "Python 3",
   "language": "python",
   "name": "python3"
  },
  "language_info": {
   "codemirror_mode": {
    "name": "ipython",
    "version": 3
   },
   "file_extension": ".py",
   "mimetype": "text/x-python",
   "name": "python",
   "nbconvert_exporter": "python",
   "pygments_lexer": "ipython3",
   "version": "3.8.10"
  }
 },
 "nbformat": 4,
 "nbformat_minor": 4
}
