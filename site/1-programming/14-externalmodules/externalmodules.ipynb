{
 "cells": [
  {
   "cell_type": "markdown",
   "metadata": {},
   "source": [
    "# External Modules\n",
    "Modules, like functions are simply pre-written code fragments that perform a certain task. In older procedural languages modules and subroutines are similar concepts.\n",
    "\n",
    "An external module, is just a file that contains python code, that is imported into your script, then run as if it was part of the script all along. Consider the following code cells - and read the comments"
   ]
  },
  {
   "cell_type": "code",
   "execution_count": 6,
   "metadata": {},
   "outputs": [
    {
     "name": "stdout",
     "output_type": "stream",
     "text": [
      "total 716\n",
      "-rw-rw-r-- 1 sensei sensei 122771 Jul 22 14:27 base-functions.png\n",
      "-rw-rw-r-- 1 sensei sensei 194845 Jul 22 14:27 external-file-import-Copy1.png\n",
      "-rw-rw-r-- 1 sensei sensei 194845 Jul 22 14:27 external-file-import.png\n",
      "-rw-rw-r-- 1 sensei sensei  72197 Jul 22 14:31 externalmodules.ipynb\n",
      "-rw-rw-r-- 1 sensei sensei 113349 Jul 22 14:27 flow-control-diagram.png\n",
      "-rw-rw-r-- 1 sensei sensei  17790 Jul 22 14:27 functions.md\n",
      "-rw-rw-r-- 1 sensei sensei   4066 Jul 22 14:27 index.html\n",
      "-rw-rw-r-- 1 sensei sensei    174 Jul 22 14:27 mylibrary.py\n"
     ]
    }
   ],
   "source": [
    "! ls -l # list contents of current directory"
   ]
  },
  {
   "cell_type": "code",
   "execution_count": 7,
   "metadata": {},
   "outputs": [
    {
     "name": "stdout",
     "output_type": "stream",
     "text": [
      "def neko(input_argument) :\n",
      "     import math #ok to import into a function\n",
      "     local_variable = input_argument * math.sqrt(abs(1.0+input_argument))\n",
      "     return local_variable"
     ]
    }
   ],
   "source": [
    "! cat mylibrary.py # list contents of file named mylibrary.py"
   ]
  },
  {
   "cell_type": "code",
   "execution_count": 8,
   "metadata": {},
   "outputs": [
    {
     "name": "stdin",
     "output_type": "stream",
     "text": [
      "enter a numeric value 2\n"
     ]
    },
    {
     "name": "stdout",
     "output_type": "stream",
     "text": [
      "f( 2.0 ) =  3.4641016151377544\n"
     ]
    }
   ],
   "source": [
    "import mylibrary # iPython assumes the extension .py\n",
    "# wrapper to run the neko function\n",
    "yes = 0\n",
    "while yes == 0:\n",
    "    xvalue = input('enter a numeric value')\n",
    "    try:\n",
    "        xvalue = float(xvalue)\n",
    "        yes = 1\n",
    "    except:\n",
    "        print('enter a bloody number! Try again \\n')\n",
    "# call the function, get value , write output\n",
    "yvalue = mylibrary.neko(xvalue) # here we call out external function\n",
    "print('f(',xvalue,') = ',yvalue) # and we are done "
   ]
  },
  {
   "cell_type": "markdown",
   "metadata": {},
   "source": [
    "In JupyterHub environments, you may discover that changes you make to your external python file are not reflected when you re-run your script; you need to restart the kernel to get the changes to actually update. The figure below depicts the notebook, external file relatonship\n",
    "\n",
    "![](external-file-import.png)\n",
    "\n",
    "\n",
    "This relationship is levereged when we build oor own libraries as illustrated next.\n",
    "\n",
    "---\n"
   ]
  },
  {
   "cell_type": "markdown",
   "metadata": {},
   "source": [
    "## Saving Code as a Separate Module/File\n",
    "\n",
    "Above we imported the `neko()` function.\n",
    "\n",
    "Here we will create a new function, export it to a file, so we can reuse it in later notebooks without having to retype or cut-and-paste. The `dusty()` function evaluates:\n",
    "\n",
    "$$f(x) = x\\sqrt{|(1 + x)|}$$\n",
    "\n",
    "Its the same as the `neko()` function.\n",
    "\n",
    "1. Create a text file named \"mydusty.txt\"\n",
    "2. Copy the `dusty()` function script below into that file.\n",
    "\n",
    "        def dusty(input_argument) :\n",
    "            import math #ok to import into a function\n",
    "            local_variable = input_argument * math.sqrt(abs(1.0+input_argument))\n",
    "            return local_variable\n",
    "\n",
    "**Note: the cells below we build the file directly on the server using bash (shell) commands; you would simply open the file in an editor and type the lines above. In lecture/lab we will use an editor to make the file**\n",
    "\n",
    "4. rename `mydusty.txt` to `mydusty.py`  (This is a bit unnecessary, but if your editor gats confused, make a .txt file then rename after populated)\n",
    "5. modify the wrapper script to use the dusty function as an external module"
   ]
  },
  {
   "cell_type": "code",
   "execution_count": 32,
   "metadata": {},
   "outputs": [],
   "source": [
    "! touch mydusty.txt # bash call to create an empty text file"
   ]
  },
  {
   "cell_type": "code",
   "execution_count": 33,
   "metadata": {},
   "outputs": [],
   "source": [
    "# bash calls to populate the file, you would normally use a text editor to create the file\n",
    "! echo 'def dusty(input_argument) : ' > line1.txt\n",
    "! echo '    import math #ok to import into a function'  > line2.txt\n",
    "! echo '    local_variable = input_argument * math.sqrt(abs(1.0+input_argument))' > line3.txt\n",
    "! echo '    return local_variable' > line4.txt\n",
    "! cat line1.txt line2.txt line3.txt line4.txt > mydusty.txt # build mydusty\n",
    "! rm -f line*.txt # remove the temp files\n",
    "! mv mydusty.txt mydusty.py # rename the populated file"
   ]
  },
  {
   "cell_type": "code",
   "execution_count": 34,
   "metadata": {
    "cocalc": {
     "outputs": {
      "0": {
       "name": "input",
       "opts": {
        "password": false,
        "prompt": "enter a numeric value"
       },
       "output_type": "stream",
       "value": "2.2"
      }
     }
    },
    "collapsed": false,
    "jupyter": {
     "outputs_hidden": false
    }
   },
   "outputs": [
    {
     "name": "stdin",
     "output_type": "stream",
     "text": [
      "enter a numeric value 2\n"
     ]
    },
    {
     "name": "stdout",
     "output_type": "stream",
     "text": [
      "f( 2.0 ) =  3.4641016151377544\n"
     ]
    }
   ],
   "source": [
    "# wrapper to run the dusty function\n",
    "import mydusty\n",
    "yes = 0\n",
    "while yes == 0:\n",
    "    xvalue = input('enter a numeric value')\n",
    "    try:\n",
    "        xvalue = float(xvalue)\n",
    "        yes = 1\n",
    "    except:\n",
    "        print('enter a bloody number! Try again \\n')\n",
    "# call the function, get value , write output\n",
    "yvalue = mydusty.dusty(xvalue)\n",
    "print('f(',xvalue,') = ',yvalue) # and we are done "
   ]
  },
  {
   "cell_type": "markdown",
   "metadata": {},
   "source": [
    "---\n",
    "\n",
    "## Temperature Converter Example (Repeated)\n",
    "\n",
    "Create a Fahrenhiet to Celsius converter and test it for these values:\n",
    "\n",
    "- 32\n",
    "- 15\n",
    "- 100\n",
    "\n",
    "*hint: Formula-(°F − 32) × 5/9 = °C\n",
    "\n",
    "### Problem Solving Process\n",
    "\n",
    "#### Step 1\n",
    "Define the problem (problem statement):\n",
    "- Create a tool to convert Fahrenhiet to Celsius\n",
    "\n",
    "#### Step 2\n",
    "Gather information (identify known and unknown values, and governing equations)\n",
    "- Known: Input in F\n",
    "- Unknown: Output in C\n",
    "- Governing Principles: *Formula: (°F − 32) × 5/9 = °C*\n",
    "\n",
    "#### Step 3\n",
    "Generate and evaluate potential solutions\n",
    "- -40F = -40C\n",
    "- 32F = 0C\n",
    "- 212F = 100C"
   ]
  },
  {
   "cell_type": "markdown",
   "metadata": {},
   "source": [
    "#### Step 4\n",
    "Refine and implement a solution\n",
    "1. Create function to evaluate input and produce output"
   ]
  },
  {
   "cell_type": "code",
   "execution_count": 9,
   "metadata": {},
   "outputs": [],
   "source": [
    "def FC(x) : # convert F to C\n",
    "    C = (x - 32)*5/9\n",
    "    return C"
   ]
  },
  {
   "cell_type": "markdown",
   "metadata": {},
   "source": [
    "2. Create wrapper to prompt for input, execute function, label output"
   ]
  },
  {
   "cell_type": "code",
   "execution_count": 10,
   "metadata": {
    "collapsed": false,
    "jupyter": {
     "outputs_hidden": false
    }
   },
   "outputs": [
    {
     "name": "stdout",
     "output_type": "stream",
     "text": [
      "37.22222222222222\n"
     ]
    }
   ],
   "source": [
    "print(FC(99))"
   ]
  },
  {
   "cell_type": "markdown",
   "metadata": {},
   "source": [
    "#### Step 5\n",
    "Verify and test the solution."
   ]
  },
  {
   "cell_type": "code",
   "execution_count": 11,
   "metadata": {},
   "outputs": [
    {
     "name": "stdout",
     "output_type": "stream",
     "text": [
      "-40.0\n"
     ]
    }
   ],
   "source": [
    "print(FC(-40))"
   ]
  },
  {
   "cell_type": "code",
   "execution_count": 12,
   "metadata": {},
   "outputs": [
    {
     "name": "stdout",
     "output_type": "stream",
     "text": [
      "0.0\n"
     ]
    }
   ],
   "source": [
    "print(FC(32))"
   ]
  },
  {
   "cell_type": "code",
   "execution_count": 13,
   "metadata": {},
   "outputs": [
    {
     "name": "stdout",
     "output_type": "stream",
     "text": [
      "100.0\n"
     ]
    }
   ],
   "source": [
    "print(FC(212))"
   ]
  },
  {
   "cell_type": "markdown",
   "metadata": {},
   "source": [
    "#### Step 6\n",
    "Refine to be useful\n",
    "- Modify the wrapper to be interactive"
   ]
  },
  {
   "cell_type": "code",
   "execution_count": 56,
   "metadata": {},
   "outputs": [
    {
     "name": "stdin",
     "output_type": "stream",
     "text": [
      "Enter a temperature in Fairyheight -40\n"
     ]
    },
    {
     "name": "stdout",
     "output_type": "stream",
     "text": [
      "Temp:  -40.0 F =  -40.0  C\n"
     ]
    }
   ],
   "source": [
    "def F2C(x) : # convert F to C\n",
    "    C = (x - 32)*5/9\n",
    "    return C\n",
    "# wrapper to run the F2C function\n",
    "yes = 0\n",
    "while yes == 0:\n",
    "    xvalue = input('Enter a temperature in Fairyheight')\n",
    "    try:\n",
    "        xvalue = float(xvalue)\n",
    "        yes = 1\n",
    "    except:\n",
    "        print('Enter a bloody number! Try again \\n')\n",
    "# call the function, get value , write output\n",
    "yvalue = F2C(xvalue)\n",
    "print('Temp: ',xvalue,'F = ',yvalue,' C') # and we are done "
   ]
  },
  {
   "cell_type": "markdown",
   "metadata": {},
   "source": [
    "\n",
    "- Save the function into an external module \"myConversions.py\"\n",
    "\n"
   ]
  },
  {
   "cell_type": "code",
   "execution_count": 35,
   "metadata": {},
   "outputs": [],
   "source": [
    "# bash calls to populate the file, you would normally use a text editor to create the file\n",
    "! echo 'def F2C(x) : # convert F to C' > line1.txt\n",
    "! echo '    C = (x - 32)*5/9'          > line2.txt\n",
    "! echo '    return C'                  > line3.txt\n",
    "! cat line1.txt line2.txt line3.txt    > myConversions.py # build \"myConversions.py\"\n",
    "! rm -f line*.txt # remove the temp files"
   ]
  },
  {
   "cell_type": "code",
   "execution_count": 41,
   "metadata": {},
   "outputs": [
    {
     "name": "stdout",
     "output_type": "stream",
     "text": [
      "def F2C(x) : # convert F to C\n",
      "    C = (x - 32)*5/9\n",
      "    return C\n"
     ]
    }
   ],
   "source": [
    "! cat myConversions.py # list contents of the file"
   ]
  },
  {
   "cell_type": "code",
   "execution_count": 40,
   "metadata": {},
   "outputs": [
    {
     "name": "stdin",
     "output_type": "stream",
     "text": [
      "Enter a temperature in Fairyheight -40\n"
     ]
    },
    {
     "name": "stdout",
     "output_type": "stream",
     "text": [
      "Temp:  -40.0 F =  -40.0  C\n"
     ]
    }
   ],
   "source": [
    "import myConversions\n",
    "# wrapper to run the F2C function\n",
    "yes = 0\n",
    "while yes == 0:\n",
    "    xvalue = input('Enter a temperature in Fairyheight')\n",
    "    try:\n",
    "        xvalue = float(xvalue)\n",
    "        yes = 1\n",
    "    except:\n",
    "        print('Enter a bloody number! Try again \\n')\n",
    "# call the function, get value , write output\n",
    "yvalue = myConversions.F2C(xvalue)\n",
    "print('Temp: ',xvalue,'F = ',yvalue,' C') # and we are done "
   ]
  },
  {
   "cell_type": "markdown",
   "metadata": {},
   "source": [
    "## Rudimentary Graphics\n",
    "\n",
    "We can use external modules and function to make things other than strings and numbers for example consider making a script to that draws a straight line between two points and presents it as a plot.\n",
    "\n",
    "The external module is named `matplotlib.pyplot` and is imported in the function body, then we prompt for vertex locations `(x1,y1)` and `(x2,y2)` then draw the plot.  Notice a null return statement which will return control to the main program."
   ]
  },
  {
   "cell_type": "code",
   "execution_count": 54,
   "metadata": {
    "collapsed": false,
    "jupyter": {
     "outputs_hidden": false
    }
   },
   "outputs": [],
   "source": [
    "def drawAline():\n",
    "    import matplotlib.pyplot  # import the plotting library from matplotlib\n",
    "    x1 = int(input('Please enter x value for point 1'))\n",
    "    y1 = int(input('Please enter y value for point 1'))\n",
    "    x2 = int(input('Please enter x value for point 2'))\n",
    "    y2 = int(input('Please enter y value for point 2'))\n",
    "    xlist = [x1,x2]\n",
    "    ylist = [y1,y2]\n",
    "    matplotlib.pyplot.plot(xlist, ylist, color ='orange', marker ='*', linestyle ='solid') \n",
    "    #matplotlib.pyplot.title(strtitle)# add a title\n",
    "    matplotlib.pyplot.ylabel(\"Y-axis\")# add a label to the x and y-axes\n",
    "    matplotlib.pyplot.xlabel(\"X-axis\")\n",
    "    matplotlib.pyplot.show() # display the plot\n",
    "    return #null return"
   ]
  },
  {
   "cell_type": "code",
   "execution_count": 55,
   "metadata": {
    "cocalc": {
     "outputs": {
      "0": {
       "name": "input",
       "opts": {
        "password": false,
        "prompt": "Please enter x value for point 1"
       },
       "output_type": "stream",
       "value": "1"
      },
      "1": {
       "name": "input",
       "opts": {
        "password": false,
        "prompt": "Please enter y value for point 1"
       },
       "output_type": "stream",
       "value": ""
      }
     }
    }
   },
   "outputs": [
    {
     "name": "stdin",
     "output_type": "stream",
     "text": [
      "Please enter x value for point 1 1\n",
      "Please enter y value for point 1 1\n",
      "Please enter x value for point 2 2\n",
      "Please enter y value for point 2 2\n"
     ]
    },
    {
     "data": {
      "image/png": "[encoded data removed]",
      "text/plain": [
       "<Figure size 432x288 with 1 Axes>"
      ]
     },
     "metadata": {
      "needs_background": "light"
     },
     "output_type": "display_data"
    }
   ],
   "source": [
    "drawAline()"
   ]
  },
  {
   "cell_type": "markdown",
   "metadata": {},
   "source": [
    "Now lets put the plotting script into a function so we can make line charts of any two numeric lists"
   ]
  },
  {
   "cell_type": "markdown",
   "metadata": {},
   "source": [
    "## References\n",
    "\n",
    "1. Grus, Joel (2015-04-14). Data Science from Scratch: First Principles with Python\n",
    "(Kindle Locations 1190-1191). O'Reilly Media. Kindle Edition. \n",
    "\n",
    "2. Call Expressions in \"Adhikari, A. and DeNero, J. Computational and Inferential Thinking The Foundations of Data Science\" https://www.inferentialthinking.com/chapters/03/3/Calls.html\n",
    "\n",
    "3. Functions and Tables in \"Adhikari, A. and DeNero, J. Computational and Inferential Thinking The Foundations of Data Science\" https://www.inferentialthinking.com/chapters/08/Functions_and_Tables.html\n",
    "\n",
    "4. Visualization in \"Adhikari, A. and DeNero, J. Computational and Inferential Thinking The Foundations of Data Science\" https://www.inferentialthinking.com/chapters/07/Visualization.html\n",
    "\n",
    "5. Documentation; The Python Standard Library; 9. Numeric and Mathematical Modules https://docs.python.org/2/library/math.html\n"
   ]
  },
  {
   "cell_type": "code",
   "execution_count": null,
   "metadata": {},
   "outputs": [],
   "source": []
  }
 ],
 "metadata": {
  "kernelspec": {
   "display_name": "Python 3",
   "language": "python",
   "name": "python3"
  },
  "language_info": {
   "codemirror_mode": {
    "name": "ipython",
    "version": 3
   },
   "file_extension": ".py",
   "mimetype": "text/x-python",
   "name": "python",
   "nbconvert_exporter": "python",
   "pygments_lexer": "ipython3",
   "version": "3.8.10"
  }
 },
 "nbformat": 4,
 "nbformat_minor": 4
}
