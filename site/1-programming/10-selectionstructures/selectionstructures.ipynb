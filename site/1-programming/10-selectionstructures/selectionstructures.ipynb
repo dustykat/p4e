{
 "cells": [
  {
   "cell_type": "markdown",
   "metadata": {},
   "source": [
    "# Selection Structures\n",
    "\n",
    "Decision making via conditional statements is an important building block in algorithm design; Selection is used to control the flow of execution of a program."
   ]
  },
  {
   "cell_type": "markdown",
   "metadata": {},
   "source": [
    "---\n",
    "## Conditional Statements\n",
    "\n",
    "Conditional statements in Python include:\n",
    "\n",
    "- `if` statement\n",
    "- `if....else` statements\n",
    "- `if....elif....else` statements\n",
    "\n",
    "Conditional statements are logical expressions that evaluate as TRUE or FALSE and using\n",
    "these results to perform further operations based on these conditions.\n",
    "\n",
    "Nearly all flow control in a program depends on evaluating conditions. \n",
    "The program will proceed\n",
    "diferently based on the outcome of one or more conditions - really sophisticated AI programs are a collection of conditions and correlations. \n",
    "\n",
    "Expressed in a flowchart a block `if` statement looks like:\n",
    "\n",
    "![](conditional.png)\n",
    "\n",
    "As psuedo code:\n",
    "\n",
    "    if(condition is true): \n",
    "        do stuff\n",
    "\n",
    "Amazon knowing what you want is based on correlations of your past behavior compared to other peoples similar, but more recent behavior, and then it uses conditional statements to decide what item to offer you in your recommendation items. \n",
    "It's a bit spooky, but ultimately just a program running in the background trying to make your money theirs.\n",
    "\n",
    "### Comparison\n",
    "\n",
    "The most common conditional operation is comparison. If we wish to compare whether two\n",
    "variables are the same we use the `==` (double equal sign).\n",
    "\n",
    "For example `x == y` means the program will ask whether x and y have the same value. \n",
    "If they do, the result is TRUE if not then the result is FALSE.\n",
    "\n",
    "Other comparison signs are `!=` does NOT equal, `<` smaller than, `> `larger than, `<= `less than or equal, and `>=` greater than or equal.\n",
    "\n",
    "There are also three logical operators when we want to build multiple compares\n",
    "(multiple conditioning); these are `and`, `or`, and `not`.\n",
    "\n",
    "The `and` operator returns TRUE if (and only if) **all** conditions are TRUE.\n",
    "For instance `5 == 5 and 5 < 6` will return a TRUE because both conditions are true.\n",
    "\n",
    "The `or` operator returns `TRUE` if at least one condition is true. \n",
    "If **all** conditions are FALSE, then it will return a FALSE. For instance `4 > 3 or 17 > 20 or 3 == 2` will return `TRUE` because the first condition is true.\n",
    "The `not` operator returns `TRUE` if the condition after the `not` keyword is false. Think of it\n",
    "as a way to do a logic reversal.\n"
   ]
  },
  {
   "cell_type": "code",
   "execution_count": 3,
   "metadata": {},
   "outputs": [],
   "source": [
    "# Examples"
   ]
  },
  {
   "cell_type": "markdown",
   "metadata": {},
   "source": [
    "### Block `if` statement\n",
    "The `if` statement is a common flow control statement. \n",
    "It allows the program to evaluate if a certain condition is satisfied and to perform a designed action based on the result of the evaluation. The structure of an `if` statement is\n",
    "\n",
    "    if condition1 is met:\n",
    "        do A\n",
    "    elif condition 2 is met:\n",
    "        do b\n",
    "    elif condition 3 is met:\n",
    "        do c\n",
    "    else:\n",
    "        do e\n",
    "        \n",
    "The `elif` means \"else if\". The `:` colon is an important part of the structure it tells where the action begins. Also there are no scope delimiters like (), or {} . \n",
    "Instead Python uses indentation to isolate blocks of code. \n",
    "\n",
    "This convention is hugely important - many other coding environments use delimiters (called scoping delimiters), but Python does not. The indentation itself is the scoping delimiter."
   ]
  },
  {
   "cell_type": "code",
   "execution_count": 4,
   "metadata": {},
   "outputs": [],
   "source": [
    "# Examples"
   ]
  },
  {
   "cell_type": "markdown",
   "metadata": {},
   "source": [
    "### Inline `if` statement\n",
    "An inline `if` statement is a simpler form of an `if` statement and is more convenient if you\n",
    "only need to perform a simple conditional task. \n",
    "The syntax is:\n",
    "\n",
    "    do TaskA `if` condition is true `else` do TaskB\n",
    "    "
   ]
  },
  {
   "cell_type": "markdown",
   "metadata": {},
   "source": [
    "An example would be"
   ]
  },
  {
   "cell_type": "code",
   "execution_count": 5,
   "metadata": {},
   "outputs": [
    {
     "name": "stdout",
     "output_type": "stream",
     "text": [
      "13\n"
     ]
    }
   ],
   "source": [
    "myInt = 3\n",
    "num1 = 12 if myInt == 0 else 13\n",
    "print(num1)"
   ]
  },
  {
   "cell_type": "markdown",
   "metadata": {},
   "source": [
    "An alternative way is to enclose the condition in brackets for some clarity like"
   ]
  },
  {
   "cell_type": "code",
   "execution_count": 6,
   "metadata": {},
   "outputs": [
    {
     "name": "stdout",
     "output_type": "stream",
     "text": [
      "13\n"
     ]
    }
   ],
   "source": [
    "myInt = 3\n",
    "num1 = 12 if (myInt == 0) else 13\n",
    "print(num1)"
   ]
  },
  {
   "cell_type": "markdown",
   "metadata": {},
   "source": [
    "In either case the result is that `num1` will have the value `13` (unless you set myInt to 0)."
   ]
  },
  {
   "cell_type": "markdown",
   "metadata": {},
   "source": [
    "## Example: Light Pipes\n",
    "\n",
    "If light is directed into one end of a long glass or plastic rod the light is totally reflected by the walls bounging until it reaches the end of the rod.  Light pipes use this optical phenomenon to transmit light and even images from one place to another.  If one bends a light pipe the light can be coaxed to follow the pipe and curve around corners -- if the pipes are bundled into a collection of fibers mutiple signals can be sent down each fiber and these bundles are the main component of optical fiber communication and is schematized in the figure below.\n",
    "\n",
    "![lightpipeconcept](lightpipeconcept.png)\n",
    "\n",
    "The total internal reflection can be predicted using Snell's law and the indices of refraction of the fiber and jacket materials.  Usually the core material is selected with a high refractive index compared to the jacket (which may be just air).  When light passes from one material to another it is bent at the interface proportional to the refractive indices and the angle of incidence at the interface as in the sketch below\n",
    "\n",
    "![lightpipesketch](lightpipesketch.png)\n",
    "\n",
    "The angle of incidence where the light will reflect as opposed to crossing the interface is called the critical angle $\\Theta_c$ and is subject to the formula:\n",
    "\n",
    "$sin~\\Theta_c = \\frac{n_2}{n_1}$\n",
    "\n",
    "where $n_1$ is the refractive index of the fiber core and $n_2$ is the refractive index of the jacket.\n",
    "\n",
    "If the jacket has a higher refractive index than the core, the light pipe will not transmit light from one end to another regardless of the incidence angle.  If not, then any incidence angle greater than the critical angle (e.g. closer to the pipe entry axis) will sucessfully achieve internal reflection and transmit.\n",
    "\n",
    "Suppose we wished to make a design tool to let designers evaluate different materials and determine if a particular material selection makes sense, and how small an angle will work (smaller means less precision is required at the entry/exit interface).  Lets apply the problem solving protocol, and a bit of computational thinking to develop a tool.\n",
    "\n",
    "---\n",
    "\n",
    "**Step 1 Problem Statement:** \n",
    "Determine whether a light pipe constructed of two materials will transmit light that enters the pipe at a prescribed angle\n",
    "\n",
    "**Step 2 Input/Output/Governing Principles**\n",
    "Inputs are the indices of refraction of the core ($n_1$) and jacket($n_2$) materials and the light incident angle at the pipe entrance ($\\Theta_i$)\n",
    "\n",
    "The governing equations are \n",
    "\n",
    "$\\text{If}~\\Theta_i > \\Theta_c~\\text{then light will propagate} $\n",
    "\n",
    "and \n",
    "\n",
    "$sin~\\Theta_c = \\frac{n_2}{n_1}$\n",
    "\n",
    "\n",
    "\n",
    "**Step 3 By-Hand Example**\n",
    "Consider a core made of optical glass (without coatings) surrounded by air - a pipe without a jacket.\n",
    "The [refraction index for air](https://www.google.com/search?client=firefox-b-1-d&q=refractive+index+of+air) is 1.0003.  The [index of refraction for glass](https://www.google.com/search?q=refractive+index+of+glass&client=firefox-b-1-d&ei=jVDzYJmNIca0tQaDgb_gAg&oq=refractive+index+of+glass&gs_lcp=Cgdnd3Mtd2l6EAMyBAgAEEMyAggAMgIIADICCAAyAggAMgIIADICCAAyAggAMgIIADICCAA6BwgAEEcQsAM6BwgAELADEENKBAhBGABQ8_kCWNyCA2CejANoAXACeACAAV2IAaQDkgEBNpgBAKABAaoBB2d3cy13aXrIAQrAAQE&sclient=gws-wiz&ved=0ahUKEwjZh4__iuvxAhVGWs0KHYPADywQ4dUDCA0&uact=5) is 1.52\n",
    "\n",
    "The critical angle is \n",
    "\n",
    "$\\Theta_c = sin^{-1}(\\frac{1.0003}{1.52})= 41.15^o$\n",
    "\n",
    "Thus the light pipe will transmit all light that enters at an angle greater than 41.15 degrees."
   ]
  },
  {
   "cell_type": "markdown",
   "metadata": {},
   "source": [
    "**Step 4 Algorithm Development**\n",
    "The problem is decomposed as \n",
    "\n",
    "1. Read into the application the refraction indices $n_1$ and $n_2$ and the incidence angle relative to the core/jacket wall.\n",
    "2. Determine if $n_2$ is larger than $n_1$, if true then no transmission\n",
    "3. If transmission is possible, then compute critical angle\n",
    "4. Determine if incident angle larger than critical angle, if true then transmission\n",
    "5. Report result\n",
    "\n",
    "As psuedocode:\n",
    "\n",
    "- prompt user for n1,n2,angle\n",
    "- if n2>n1 print no transmission else\n",
    "- compute critical angle\n",
    "- if incident angle > critical angle then print transmission\n",
    "- else print no transmission\n",
    "\n",
    "Below we convert psuedocode to python script\n",
    "  "
   ]
  },
  {
   "cell_type": "code",
   "execution_count": 22,
   "metadata": {},
   "outputs": [
    {
     "name": "stdout",
     "output_type": "stream",
     "text": [
      "Begin Light Pipe Design\n"
     ]
    },
    {
     "name": "stdin",
     "output_type": "stream",
     "text": [
      "Enter RI of pipe core 1.52\n",
      "Enter RI of pipe jacket 1.0003\n",
      "Enter incident angle of light (in degrees) 45\n"
     ]
    },
    {
     "name": "stdout",
     "output_type": "stream",
     "text": [
      "Light is transmitted\n",
      "End Light Pipe Design\n"
     ]
    }
   ],
   "source": [
    "# load the math library\n",
    "import math\n",
    "# prompt user for n1,n2,angle\n",
    "print('Begin Light Pipe Design')\n",
    "n1 = float(input('Enter RI of pipe core'))\n",
    "n2 = float(input('Enter RI of pipe jacket'))\n",
    "anglein = float(input('Enter incident angle of light (in degrees)'))\n",
    "# if n2>n1 print no transmission else\n",
    "if (n2>n1): # selection structure\n",
    "    print('Light not transmitted, jacket material too dense')\n",
    "else:\n",
    "# compute critical angle\n",
    "    critangle = math.degrees(math.asin(n2/n1)) #use math package for arcsine\n",
    "# if incident angle > critical angle then print transmission\n",
    "    if anglein > critangle:  # selection structure\n",
    "        print('Light is transmitted')\n",
    "# else print no transmission\n",
    "    else:\n",
    "        print('Light is not transmitted, adjust interface angle')\n",
    "print('End Light Pipe Design')"
   ]
  },
  {
   "cell_type": "markdown",
   "metadata": {},
   "source": [
    "Now we have a tool and can evaluate a variety of material pairs to build a light pipe.  \n",
    "\n",
    "|**Material**|**Index of Refraction**|\n",
    "|---|---:|\n",
    "|Hydrogen      (1 atm.;0C)|1.0001|\n",
    "|Air           (1 atm.;0C)|1.0003|\n",
    "|Carbon Dioxide(1 atm.;0C)|1.0005|\n",
    "|Water               (20C)|1.333|\n",
    "|Ethanol             (20C)|1.362|\n",
    "|Glycerine           (20C)|1.473|\n",
    "|Ice                      |1.31|\n",
    "|Polystryene              |1.59|\n",
    "|Crown Glass              |1.62|\n",
    "|Borosilicate             |1.75|\n",
    "|Carbon (Diamond)         |2.417|\n",
    "|Acrylic                  |1.49|"
   ]
  },
  {
   "cell_type": "markdown",
   "metadata": {},
   "source": [
    "**Step 5 Testing/Application**\n",
    "Apply using acrylic in water"
   ]
  },
  {
   "cell_type": "code",
   "execution_count": 23,
   "metadata": {},
   "outputs": [
    {
     "name": "stdout",
     "output_type": "stream",
     "text": [
      "Begin Light Pipe Design\n"
     ]
    },
    {
     "name": "stdin",
     "output_type": "stream",
     "text": [
      "Enter RI of pipe core 1.49\n",
      "Enter RI of pipe jacket 1.333\n",
      "Enter incident angle of light (in degrees) 45\n"
     ]
    },
    {
     "name": "stdout",
     "output_type": "stream",
     "text": [
      "Light is not transmitted, adjust interface angle\n",
      "End Light Pipe Design\n"
     ]
    }
   ],
   "source": [
    "# load the math library\n",
    "import math\n",
    "# prompt user for n1,n2,angle\n",
    "print('Begin Light Pipe Design')\n",
    "n1 = float(input('Enter RI of pipe core'))\n",
    "n2 = float(input('Enter RI of pipe jacket'))\n",
    "anglein = float(input('Enter incident angle of light (in degrees)'))\n",
    "# if n2>n1 print no transmission else\n",
    "if (n2>n1): # selection structure\n",
    "    print('Light not transmitted, jacket material too dense')\n",
    "else:\n",
    "# compute critical angle\n",
    "    critangle = math.degrees(math.asin(n2/n1)) #use math package for arcsine\n",
    "# if incident angle > critical angle then print transmission\n",
    "    if anglein > critangle:  # selection structure\n",
    "        print('Light is transmitted')\n",
    "# else print no transmission\n",
    "    else:\n",
    "        print('Light is not transmitted, adjust interface angle')\n",
    "print('End Light Pipe Design')"
   ]
  },
  {
   "cell_type": "markdown",
   "metadata": {},
   "source": [
    "## Readings\n",
    "\n",
    "1. Learn Python in One Day and Learn It Well. Python for Beginners with Hands-on Project. (Learn Coding Fast with Hands-On Project Book -- Kindle Edition by LCF Publishing (Author), Jamie Chan [https://www.amazon.com/Python-2nd-Beginners-Hands-Project-ebook/dp/B071Z2Q6TQ/ref=sr_1_3?dchild=1&keywords=learn+python+in+a+day&qid=1611108340&sr=8-3](https://www.amazon.com/Python-2nd-Beginners-Hands-Project-ebook/dp/B071Z2Q6TQ/ref=sr_1_3?dchild=1&keywords=learn+python+in+a+day&qid=1611108340&sr=8-3)\n",
    "\n",
    "2. Learn Python the Hard Way (Online Book) (https://learnpythonthehardway.org/book/)  Recommended for beginners who want a complete course in programming with Python.\n",
    "\n",
    "3. How to Learn Python for Data Science, The Self-Starter Way (https://elitedatascience.com/learn-python-for-data-science) "
   ]
  },
  {
   "cell_type": "code",
   "execution_count": null,
   "metadata": {},
   "outputs": [],
   "source": []
  }
 ],
 "metadata": {
  "kernelspec": {
   "display_name": "Python 3",
   "language": "python",
   "name": "python3"
  },
  "language_info": {
   "codemirror_mode": {
    "name": "ipython",
    "version": 3
   },
   "file_extension": ".py",
   "mimetype": "text/x-python",
   "name": "python",
   "nbconvert_exporter": "python",
   "pygments_lexer": "ipython3",
   "version": "3.8.10"
  }
 },
 "nbformat": 4,
 "nbformat_minor": 4
}
